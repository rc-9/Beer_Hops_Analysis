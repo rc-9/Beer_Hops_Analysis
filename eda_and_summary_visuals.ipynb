{
 "cells": [
  {
   "cell_type": "markdown",
   "metadata": {},
   "source": [
    "# Beer Hops Data: Exploratory Data Analysis & Summary Analysis\n",
    "\n",
    "**Data Files:** *cln_hops_profile.csv, cln_hops_brewvalues.csv*\n",
    "\n",
    "**Original Source:** *https://beermaverick.com/hops/*  (Data retrieved via web-scraping)\n",
    "\n",
    "------------------------------------------------------------"
   ]
  },
  {
   "cell_type": "markdown",
   "metadata": {},
   "source": [
    "Define libraries:"
   ]
  },
  {
   "cell_type": "code",
   "execution_count": null,
   "metadata": {},
   "outputs": [],
   "source": [
    "import matplotlib.pyplot as plt\n",
    "import plotly.express as px\n",
    "import geopandas as gpd\n",
    "import seaborn as sns\n",
    "import pandas as pd\n",
    "import numpy as np\n",
    "import folium"
   ]
  },
  {
   "cell_type": "markdown",
   "metadata": {},
   "source": [
    "Define file paths for processed CSV data:"
   ]
  },
  {
   "cell_type": "code",
   "execution_count": null,
   "metadata": {},
   "outputs": [],
   "source": [
    "CLEAN_HOPS_PATH = './clean_data/cln_hops_brewvalues.csv'\n",
    "CLEAN_HOPS_PROFILE_PATH = './clean_data/cln_hops_profile.csv'"
   ]
  },
  {
   "cell_type": "markdown",
   "metadata": {},
   "source": [
    "Read in clean CSV data into local dataframes with index as the Hop Name:"
   ]
  },
  {
   "cell_type": "code",
   "execution_count": null,
   "metadata": {},
   "outputs": [],
   "source": [
    "hops_v = pd.read_csv(CLEAN_HOPS_PATH, index_col='Hop Name')\n",
    "hops_p = pd.read_csv(CLEAN_HOPS_PROFILE_PATH, index_col='Hop Name')"
   ]
  },
  {
   "cell_type": "markdown",
   "metadata": {},
   "source": [
    "Combine dataframes to have all the hop data in a master dataframe:"
   ]
  },
  {
   "cell_type": "code",
   "execution_count": null,
   "metadata": {},
   "outputs": [],
   "source": [
    "hops_main = pd.concat([hops_v, hops_p], axis=1)\n",
    "hops_main.head()"
   ]
  },
  {
   "cell_type": "markdown",
   "metadata": {},
   "source": [
    "Shorten the country 'United States of America' to 'USA'. This will look cleaner on plots."
   ]
  },
  {
   "cell_type": "code",
   "execution_count": null,
   "metadata": {},
   "outputs": [],
   "source": [
    "hops_main['Country'].replace(\"United States of America\", \"USA\", inplace=True)"
   ]
  },
  {
   "cell_type": "markdown",
   "metadata": {},
   "source": [
    "Make a new column for Continent:"
   ]
  },
  {
   "cell_type": "code",
   "execution_count": null,
   "metadata": {},
   "outputs": [],
   "source": [
    "hops_main['Continent'] = hops_main['Country'].copy()\n",
    "hops_main['Continent'].replace({\n",
    "    'Australia': 'Australia',\n",
    "    'Canada': 'N. America',\n",
    "    'China': 'Asia',\n",
    "    'Czech Republic': 'Europe',\n",
    "    'France': 'Europe',\n",
    "    'Germany': 'Europe',\n",
    "    'Japan': 'Asia',\n",
    "    'New Zealand': 'Australia',\n",
    "    'Poland': 'Europe',\n",
    "    'Slovenia': 'Europe',\n",
    "    'South Africa': 'Africa',\n",
    "    'Ukraine': 'Europe',\n",
    "    'United Kingdom': 'Europe',\n",
    "    'USA': 'N. America'},\n",
    "    inplace=True)\n",
    "\n",
    "hops_main.Continent.unique() "
   ]
  },
  {
   "cell_type": "markdown",
   "metadata": {},
   "source": [
    "## Exploratory Data Analysis\n",
    "### Brewing Value Analysis"
   ]
  },
  {
   "cell_type": "markdown",
   "metadata": {},
   "source": [
    "Select only the brewing value average columns + 'Purpose', 'Country', and 'Continent'."
   ]
  },
  {
   "cell_type": "code",
   "execution_count": null,
   "metadata": {},
   "outputs": [],
   "source": [
    "hops_bv = pd.DataFrame(hops_main, columns=[\n",
    "    'Alpha Acid % - Avg',\n",
    "    'Beta Acid % - Avg',\n",
    "    'Alpha-Beta Ratio - Avg',\n",
    "    'Co-Humulone as % of Alpha - Avg',\n",
    "    'Total Oils (mL/100g) - Avg',\n",
    "    'Myrcene - Avg',\n",
    "    'Humulene - Avg',\n",
    "    'Caryophyllene - Avg',\n",
    "    'Farnesene - Avg',\n",
    "    'Purpose',\n",
    "    'Country',\n",
    "    'Continent'])\n",
    "\n",
    "hops_bv.head()"
   ]
  },
  {
   "cell_type": "markdown",
   "metadata": {},
   "source": [
    "Inspect the features of the dataframe:"
   ]
  },
  {
   "cell_type": "code",
   "execution_count": null,
   "metadata": {},
   "outputs": [],
   "source": [
    "hops_bv.info()"
   ]
  },
  {
   "cell_type": "markdown",
   "metadata": {},
   "source": [
    "Check for null values:"
   ]
  },
  {
   "cell_type": "code",
   "execution_count": null,
   "metadata": {},
   "outputs": [],
   "source": [
    "hops_bv.isnull().sum()"
   ]
  },
  {
   "cell_type": "markdown",
   "metadata": {},
   "source": [
    "There are some missing values that were converted into np.nan in previous steps.These must be remove for visualizations and analysis. Dataset without NAs:"
   ]
  },
  {
   "cell_type": "code",
   "execution_count": null,
   "metadata": {},
   "outputs": [],
   "source": [
    "hops_bv = hops_bv.dropna(axis=0)\n",
    "hops_bv.sample(5)"
   ]
  },
  {
   "cell_type": "markdown",
   "metadata": {},
   "source": [
    "Plot of the number of hops per country with Purpose breakdown:"
   ]
  },
  {
   "cell_type": "code",
   "execution_count": null,
   "metadata": {},
   "outputs": [],
   "source": [
    "fig = px.bar(hops_bv,\n",
    "             x=\"Country\",\n",
    "             color=\"Purpose\",\n",
    "             labels={\n",
    "                 \"x\": \"Country\", \"count\": \"Count\"},\n",
    "             title=\"Number of Hops per Country\",\n",
    "             hover_data=['Continent'],\n",
    "             width=800,\n",
    "             height=1000)\n",
    "fig.update_layout(title={\n",
    "    'y': 0.95,\n",
    "    'x': 0.5,\n",
    "    'xanchor': 'center',\n",
    "    'yanchor': 'top'},\n",
    "    xaxis={\n",
    "        'categoryorder': 'total descending'})\n",
    "# fig.write_image(\"images/HopsPerCountry.png\")\n",
    "fig.show()"
   ]
  },
  {
   "cell_type": "markdown",
   "metadata": {},
   "source": [
    "This graphic shows the count of hops per country in the dataset. Quite clearly, the United States of America has developed the most hops out of all the countries. Followed by Germany and New Zealand. Europe as a whole would come in second after USA. The colors in the plot represent the use purpose of the hop. Some hops are used specifically for bittering, while others are used more for aromas. Some hops give the best of both worlds and have dual use. Countries like USA and New Zealand have mostly dual-use hops, while European countries such as Germany and Czech Republic have mostly aromatic hops. As hop techniques improve and the focus from using hops as a bittering agent has shifted towards it’s aromatic and flavorful offerings. As it can be seen in the graphic, most hops have either a dual purpose or aromatic purpose."
   ]
  },
  {
   "cell_type": "markdown",
   "metadata": {},
   "source": [
    "The last plot suggested that it may be better to view the the plot but per Continent instead of country.Hovering over the bars will show the exact count."
   ]
  },
  {
   "cell_type": "code",
   "execution_count": null,
   "metadata": {},
   "outputs": [],
   "source": [
    "count_cont = hops_bv['Continent'].value_counts()\n",
    "count_cont"
   ]
  },
  {
   "cell_type": "code",
   "execution_count": null,
   "metadata": {},
   "outputs": [],
   "source": [
    "fig = px.bar(count_cont, title='Hops per Continent', labels={'value':'Count', 'index':'Continent'}, color=count_cont.index)\n",
    "fig.update_layout(title={\n",
    "    'y': 0.9,\n",
    "    'x': 0.5,\n",
    "    'xanchor': 'center',\n",
    "    'yanchor': 'top'},\n",
    "    xaxis={\n",
    "        'categoryorder': 'total descending'},\n",
    "        showlegend=False)\n",
    "\n",
    "# fig.write_image(\"images/HopsPerContinent.png\")\n",
    "fig.show()"
   ]
  },
  {
   "cell_type": "markdown",
   "metadata": {},
   "source": [
    "The following violin and box whisker plots are interactive. Use the mouse to hover over the plot to read the values of minimum, maximum, median, and quantiles."
   ]
  },
  {
   "cell_type": "code",
   "execution_count": null,
   "metadata": {},
   "outputs": [],
   "source": [
    "for i in hops_bv.columns[:9]:\n",
    "    fig = px.violin(hops_bv, y=i, height=500, width=500)\n",
    "    fig.show()\n",
    "#     if i.startswith(\"Total\"):\n",
    "#         fig.write_image(\"images/Violin_TotalOil.png\")\n",
    "#     else:\n",
    "#         fig.write_image(f\"images/Violin_{i}.png\")"
   ]
  },
  {
   "cell_type": "markdown",
   "metadata": {},
   "source": [
    "Box-whisker Plots"
   ]
  },
  {
   "cell_type": "code",
   "execution_count": null,
   "metadata": {},
   "outputs": [],
   "source": [
    "for i in hops_bv.columns[:9]:\n",
    "    fig = px.box(hops_bv, y=i, height=500, width=500)\n",
    "    fig.show()\n",
    "#     if i.startswith(\"Total\"):\n",
    "#         fig.write_image(\"images/Box_TotalOil.png\")\n",
    "#     else:\n",
    "#         fig.write_image(f\"images/Box_{i}.png\")"
   ]
  },
  {
   "cell_type": "markdown",
   "metadata": {},
   "source": [
    "In observing the violin and box plots above, there is a minimal amount of outliers. The average Farnesene feature seems to have the most significant amount of outliers.  "
   ]
  },
  {
   "cell_type": "markdown",
   "metadata": {},
   "source": [
    "In order to study the correlation of the variables to one another, a heatmap is created."
   ]
  },
  {
   "cell_type": "code",
   "execution_count": null,
   "metadata": {},
   "outputs": [],
   "source": [
    "plt.figure(dpi=150)\n",
    "fig = sns.heatmap(hops_bv[:9].corr(), cmap='coolwarm', vmax=1,\n",
    "            vmin=-1, xticklabels=True, yticklabels=True)\n",
    "plt.title(\"Correlation Hop Brewing Values & Oil Concentrations\")\n",
    "plt.xticks(rotation=90, fontsize=7)\n",
    "plt.yticks(fontsize=7)\n",
    "# plt.savefig('images/heatmap.png', dpi=200, bbox_inches = \"tight\")\n",
    "plt.show()\n"
   ]
  },
  {
   "cell_type": "markdown",
   "metadata": {},
   "source": [
    "Using .describe() the dataset to inspect some importants EDA values such as minimum, maximum, mean, strandard deviation and quartiles."
   ]
  },
  {
   "cell_type": "code",
   "execution_count": null,
   "metadata": {},
   "outputs": [],
   "source": [
    "hops_bv.describe()"
   ]
  },
  {
   "cell_type": "markdown",
   "metadata": {},
   "source": [
    "The following are two pair plots - one with 'Purpose' as the color of the bars, and one with 'Continent' as the bar colors.\n",
    "\n",
    "To get the darta xonvert 'inf' to np.nan in column 'Alpha-Beta Ratio - Avg' and remove rows with it"
   ]
  },
  {
   "cell_type": "markdown",
   "metadata": {},
   "source": [
    "Pairplot with Purpose as the color"
   ]
  },
  {
   "cell_type": "code",
   "execution_count": null,
   "metadata": {},
   "outputs": [],
   "source": [
    "fig = sns.pairplot(hops_bv, height=3, hue='Purpose')\n",
    "# fig.savefig('images/Pairplot_purpose.png') "
   ]
  },
  {
   "cell_type": "markdown",
   "metadata": {},
   "source": [
    "From this plot, it is most notable the Alpha Acid percentage and the alpha-beta ratio are the most significantly different from one in other regarding purpose. The peaks of the colored curves in the top left plot are significantly different with a bit of an overlap between bittering hops and dual purpose hops. This makes sense because dual purpose hops have the best of both worlds - aroma and bitter properties.\n",
    "\n",
    "In the first row of plots, it can be observed that the aromatic hops (in orange) are somewhat clustered together as compare to the bittering and dual purpose hops, which are mostly layed over eachother."
   ]
  },
  {
   "cell_type": "markdown",
   "metadata": {},
   "source": [
    "Pairplot with Continent as the color"
   ]
  },
  {
   "cell_type": "code",
   "execution_count": null,
   "metadata": {},
   "outputs": [],
   "source": [
    "fig = sns.pairplot(hops_bv, height=3, hue='Continent')\n",
    "# fig.savefig('images/Pairplot_country.png') "
   ]
  },
  {
   "cell_type": "markdown",
   "metadata": {},
   "source": [
    "From the plot it can be seen that some variables are more correlated than others. A strong positive correlation is indicated by the darker red squares, while a strong positive correlation is indicated by the darker blue. The most signifcant positive correlations include:\n",
    "- 'Co-Humulone as % of Alpha - Avg' with 'Alpha Acid % - Avg'\n",
    "- 'Co-Humulone as % of Alpha - Avg' with 'Alpha-Beta Ratio - Avg'\n",
    "- 'Farnesene - Avg' with 'Alpha-Beta Ratio - Avg'\n",
    "\n",
    "The most significant negative correlations include:\n",
    "- 'Co-Humulone as % of Alpha - Avg' with 'Humulene - Avg'\n",
    "- 'Alpha Acid % - Avg' with 'Humulene - Avg'\n",
    "- Crayophyllene - Avg, with Myrcene"
   ]
  },
  {
   "cell_type": "markdown",
   "metadata": {},
   "source": [
    "## Summary Visuals & Analysis"
   ]
  },
  {
   "cell_type": "markdown",
   "metadata": {},
   "source": [
    "<!-- hops_bv['Alpha-Beta Ratio - Avg'].replace(np.inf, np.nan, inplace=True)\n",
    "hops_bv[ hops_bv['Alpha-Beta Ratio - Avg'] == np.inf]\n",
    "hops_bv = hops_bv.dropna(axis=0) -->"
   ]
  },
  {
   "cell_type": "markdown",
   "metadata": {},
   "source": [
    "### Alpha Acids and Bitterness\n",
    "\n",
    "Alpha acids (α acids) are a class of chemical compounds found in the resin glands of the hop plant flowers. They are the source of bitterness in beer, and they possess anti-bacterial properties. The bitterness level is a result of a process called isomerization which happens in the boiling stage of the brewing process. The degree of isomerization and hence the bitterness are highly dependent on the length of time the hops are boiled. Longer boil times result in isomerization of more alpha acids and therefore increase the bitterness. "
   ]
  },
  {
   "cell_type": "code",
   "execution_count": null,
   "metadata": {},
   "outputs": [],
   "source": [
    "fig = px.bar(hops_bv, y='Alpha Acid % - Avg', orientation='v',\n",
    "             color='Purpose', title='Bitterness in Hops', height=800, hover_data=['Continent'])\n",
    "fig.update_layout(title={\n",
    "    'y': 0.9,\n",
    "    'x': 0.5,\n",
    "    'xanchor': 'center',\n",
    "    'yanchor': 'top'},\n",
    "    xaxis={'categoryorder': 'total ascending'})\n",
    "# fig.write_image(\"images/BitternessInHops.png\")    \n",
    "fig.show()\n"
   ]
  },
  {
   "cell_type": "markdown",
   "metadata": {},
   "source": [
    "In plot above, the height of the bars represent the alpha acids % averages of each hop. The color of the bar represents the Purpose of the hop. As expected, the hops with lower alpha acid % (on the left side of the x-axis) are mostly for aromatic purposes. On the other side, with the higher alpha acid %, we have mostly dual purpose and bittering hops. This supports the notion that the acid percentages in the hop can affect it's purpose."
   ]
  },
  {
   "cell_type": "markdown",
   "metadata": {},
   "source": [
    "To further inspect this, the dataframe is grouped by 'Purpose', then each  group is averaged and the results are plotted."
   ]
  },
  {
   "cell_type": "code",
   "execution_count": null,
   "metadata": {},
   "outputs": [],
   "source": [
    "hops_bv_purpose = hops_bv.groupby(\"Purpose\").mean()\n",
    "\n",
    "hops_bv_purpose"
   ]
  },
  {
   "cell_type": "markdown",
   "metadata": {},
   "source": [
    "The average alpha acid % is significantly lower in the aromatic hops, as compared to the bittering and dual purpose hops. This make sense as to why the are labelled as such."
   ]
  },
  {
   "cell_type": "code",
   "execution_count": null,
   "metadata": {},
   "outputs": [],
   "source": [
    "fig = px.bar(hops_bv_purpose, y=\"Alpha Acid % - Avg\", orientation='v',\n",
    "             color=hops_bv_purpose.index, width=500, height=500,\n",
    "             title=\"Alpha Acids and Bitterness\")\n",
    "fig.update_layout(title={\n",
    "    'y': 0.9,\n",
    "    'x': 0.5,\n",
    "    'xanchor': 'center',\n",
    "    'yanchor': 'top'},\n",
    "    xaxis={'categoryorder': 'total ascending'})\n",
    "# fig.write_image(\"images/BitternessInHops.png\")        \n",
    "fig.show()\n"
   ]
  },
  {
   "cell_type": "markdown",
   "metadata": {},
   "source": [
    "### Aroma Tag Analysis"
   ]
  },
  {
   "cell_type": "markdown",
   "metadata": {},
   "source": [
    "Make a dataframe consisting of the aroma tags, 'Country', 'Purpose', and 'Continent'. Then drop rows with NAs:"
   ]
  },
  {
   "cell_type": "code",
   "execution_count": null,
   "metadata": {},
   "outputs": [],
   "source": [
    "hops_tags = hops_p.copy()\n",
    "hops_tags['Continent'] = hops_tags['Country'].copy()\n",
    "hops_tags['Continent'].replace({\n",
    "    'Australia': 'Australia',\n",
    "    'Canada': 'N. America',\n",
    "    'China': 'Asia',\n",
    "    'Czech Republic': 'Europe',\n",
    "    'France': 'Europe',\n",
    "    'Germany': 'Europe',\n",
    "    'Japan': 'Asia',\n",
    "    'New Zealand': 'Australia',\n",
    "    'Poland': 'Europe',\n",
    "    'Slovenia': 'Europe',\n",
    "    'South Africa': 'Africa',\n",
    "    'Ukraine': 'Europe',\n",
    "    'United Kingdom': 'Europe',\n",
    "    'United States of America': 'N. America'},\n",
    "    inplace=True)\n",
    "\n",
    "hops_tags = hops_tags.dropna(axis=0)\n",
    "\n",
    "hops_tags.head()\n"
   ]
  },
  {
   "cell_type": "markdown",
   "metadata": {},
   "source": [
    "In order to calculate the most used tags for each continent, the dataframe hops_tag is grouped by 'Continent' and saved as a new dataframe hops_tag_g. The False/True are replaced by 0/1 and the columns are sumed. "
   ]
  },
  {
   "cell_type": "code",
   "execution_count": null,
   "metadata": {},
   "outputs": [],
   "source": [
    "hops_tags_g = hops_tags.copy()\n",
    "hops_tags_g = hops_tags_g.replace({False:0, True:1})\n",
    "hops_tags_g = hops_tags_g.groupby('Continent').sum()\n",
    "hops_tags_g"
   ]
  },
  {
   "cell_type": "markdown",
   "metadata": {},
   "source": [
    "For each continent, the 5 most used aroma tags are printed and plotted:"
   ]
  },
  {
   "cell_type": "code",
   "execution_count": null,
   "metadata": {},
   "outputs": [],
   "source": [
    "for i in hops_tags_g.index:\n",
    "    # print(hops_tags_g[hops_tags_g.index == i])\n",
    "    count = hops_tags_g[hops_tags_g.index == i].copy().sum()\n",
    "    count = count.astype('int32')\n",
    "    count = count.nlargest(n=5, keep='first')\n",
    "    print(f\"5 most used Aroma tags for {i}:\")\n",
    "    print(\", \".join(count.index))\n",
    "    print()\n",
    "    fig = px.bar(count, title=i, color=count.index)\n",
    "#     fig.write_image(f\"images/MostUsedHops_{i}.png\")    \n",
    "    fig.show()"
   ]
  },
  {
   "cell_type": "markdown",
   "metadata": {},
   "source": [
    "An alternative approach to calculate the most used aroma tags per continent is presented below. \n",
    "\n",
    "Inspect the the value counts in hops_tags. Drop columns that have less than 20 True entries. This leaves a dataset with the 21 most used aroma profiles."
   ]
  },
  {
   "cell_type": "code",
   "execution_count": null,
   "metadata": {},
   "outputs": [],
   "source": [
    "# TOP 21\n",
    "\n",
    "for i in hops_tags.columns[2:-1]:\n",
    "    if hops_tags[i].value_counts()[True] < 20:\n",
    "        hops_tags = hops_tags.drop([i], axis=1)\n",
    "hops_tags\n"
   ]
  },
  {
   "cell_type": "markdown",
   "metadata": {},
   "source": [
    "Create a bar plot to display the 21 most used aroma profiles."
   ]
  },
  {
   "cell_type": "code",
   "execution_count": null,
   "metadata": {},
   "outputs": [],
   "source": [
    "aroma_count = hops_tags.sum()\n",
    "\n",
    "fig = px.bar(x=aroma_count.index[2:-1], y=aroma_count.values[2:-1],\n",
    "             title='21 Most Popular Aroma Tags', height=750, color=aroma_count.index[2:-1], \n",
    "             labels={\n",
    "             \"x\": \"Aroma Tag\",\n",
    "             \"y\": \"Count\"\n",
    "             })\n",
    "\n",
    "fig.update_layout(title={\n",
    "    'y': 0.9,\n",
    "    'x': 0.5,\n",
    "    'xanchor': 'center',\n",
    "    'yanchor': 'top'},\n",
    "    xaxis={'categoryorder': 'total descending'})\n",
    "# fig.write_image(\"images/21MostUsedHops.png\")        \n",
    "fig.show()\n"
   ]
  },
  {
   "cell_type": "markdown",
   "metadata": {},
   "source": [
    "Further cut down the dataset to only have the 6 most used aroma profiles: citrus, floral, spicy, pine, herbal, and fruity."
   ]
  },
  {
   "cell_type": "code",
   "execution_count": null,
   "metadata": {},
   "outputs": [],
   "source": [
    "# TOP 6\n",
    "\n",
    "for i in hops_tags.columns[2:-1]:\n",
    "    if hops_tags[i].value_counts()[True] < 50:\n",
    "        hops_tags = hops_tags.drop([i], axis=1)\n",
    "\n",
    "hops_tags"
   ]
  },
  {
   "cell_type": "markdown",
   "metadata": {},
   "source": [
    "Group hops_tags dataframe by Continent."
   ]
  },
  {
   "cell_type": "code",
   "execution_count": null,
   "metadata": {},
   "outputs": [],
   "source": [
    "hops_tags_group = hops_tags.groupby(\"Continent\").sum()\n"
   ]
  },
  {
   "cell_type": "markdown",
   "metadata": {},
   "source": [
    "Drop the columns 'Purpose' and 'Country'. Also drop the gouping for 'Asia' since it has very little entries."
   ]
  },
  {
   "cell_type": "code",
   "execution_count": null,
   "metadata": {},
   "outputs": [],
   "source": [
    "hops_tags_group = hops_tags_group.drop(['Purpose', 'Country'], axis=1)\n",
    "hops_tags_group = hops_tags_group.drop(['Asia'], axis=0)\n",
    "hops_tags_group\n"
   ]
  },
  {
   "cell_type": "markdown",
   "metadata": {},
   "source": [
    "Use the grouped dataframe to plot the breakdown of the 6 most used hop aromas in each continent."
   ]
  },
  {
   "cell_type": "code",
   "execution_count": null,
   "metadata": {},
   "outputs": [],
   "source": [
    "fig = px.bar(hops_tags_group, title=\"6 Most Popular Aromas - Breakdown per Continent\", width=600, height=750, labels={\n",
    "    \"value\": \"Count\", \"variable\": \"Aroma Tag\"})\n",
    "fig.update_layout(title={\n",
    "    'y': 0.9,\n",
    "    'x': 0.5,\n",
    "    'xanchor': 'center',\n",
    "    'yanchor': 'top'},\n",
    "    xaxis={'categoryorder': 'total ascending'})\n",
    "# fig.write_image(\"images/AromasPerContinent.png\")\n",
    "fig.show()\n"
   ]
  },
  {
   "cell_type": "markdown",
   "metadata": {},
   "source": [
    "Create a smaller dataframe from hops_bv to only include the Oil Concentration Averages of each hop and the Continent"
   ]
  },
  {
   "cell_type": "code",
   "execution_count": null,
   "metadata": {},
   "outputs": [],
   "source": [
    "hops_bv_sm = hops_bv.drop(['Purpose', 'Country'], axis=1)\n",
    "\n",
    "hops_bv_sm = hops_bv_sm.drop(['Alpha Acid % - Avg', 'Beta Acid % - Avg', 'Alpha-Beta Ratio - Avg',\n",
    "            'Co-Humulone as % of Alpha - Avg', 'Total Oils (mL/100g) - Avg'], axis=1).copy()\n",
    "hops_bv_sm.head()\n"
   ]
  },
  {
   "cell_type": "markdown",
   "metadata": {},
   "source": [
    "Breakdown of the oil concentration in each hop. Click on the oil in the legend to show/hide.\n",
    "\n",
    "Myrcene and Humulene are the most present oils in the hops. These are responsible for "
   ]
  },
  {
   "cell_type": "code",
   "execution_count": null,
   "metadata": {},
   "outputs": [],
   "source": [
    "fig = px.bar(hops_bv_sm, orientation='h', width=750,\n",
    "             height=1500, hover_data=['Continent'],\n",
    "             title='Oil Concentration in Hops',\n",
    "             labels={'variable':'Oils', 'value':'Total Oil Breakdown (%)'}\n",
    "             )\n",
    "fig.update_layout(title={\n",
    "    'y': .95,\n",
    "    'x': 0.5,\n",
    "    'xanchor': 'center',\n",
    "    'yanchor': 'top'},\n",
    "    yaxis={'categoryorder': 'total descending'})\n",
    "# fig.write_image(\"images/OilsInHops.png\")\n",
    "fig.show()\n"
   ]
  },
  {
   "cell_type": "markdown",
   "metadata": {},
   "source": [
    "Same process but this time for breakdown of the acid concentration in each hop. Click on the oil in the legend to show/hide."
   ]
  },
  {
   "cell_type": "code",
   "execution_count": null,
   "metadata": {},
   "outputs": [],
   "source": [
    "hops_bv_sm2 = hops_bv.copy()\n",
    "hops_bv_sm2 = hops_bv_sm2.drop(['Myrcene - Avg', 'Humulene - Avg', 'Caryophyllene - Avg',\n",
    "            'Farnesene - Avg', 'Total Oils (mL/100g) - Avg', 'Total Oils (mL/100g) - Avg', 'Alpha-Beta Ratio - Avg',\n",
    "            'Co-Humulone as % of Alpha - Avg'], axis=1).copy()\n",
    "hops_bv_sm2            "
   ]
  },
  {
   "cell_type": "code",
   "execution_count": null,
   "metadata": {},
   "outputs": [],
   "source": [
    "fig = px.bar(hops_bv_sm2, orientation='h', width=750,\n",
    "             height=1500, hover_data=['Continent', 'Purpose', 'Country'],\n",
    "             title='Acids in Hops',\n",
    "             labels={'variable':'Acids', 'value':'Acid %'}\n",
    "             )\n",
    "fig.update_layout(title={\n",
    "    'y': .95,\n",
    "    'x': 0.5,\n",
    "    'xanchor': 'center',\n",
    "    'yanchor': 'top'},\n",
    "    yaxis={'categoryorder': 'total descending'})\n",
    "# fig.write_image(\"images/AcidsInHops.png\")\n",
    "fig.show()"
   ]
  },
  {
   "cell_type": "markdown",
   "metadata": {},
   "source": [
    "In order to explore the oils for the aroma tags, the following interactive plots were created. Click the oils in the legend to show or hide the corresponding oils."
   ]
  },
  {
   "cell_type": "code",
   "execution_count": null,
   "metadata": {},
   "outputs": [],
   "source": [
    "hops_group = hops_bv_sm.groupby('Continent').mean()\n",
    "hops_group1 = hops_group.drop(['Asia', 'Australia', 'Europe'])\n",
    "hops_group2 = hops_group.drop(['N. America', 'Asia', 'Africa'])\n",
    "\n",
    "fig1 = px.bar(hops_group1, width=500, height=500,\n",
    "              title=\"Average Oil Concentration\",\n",
    "              labels={'variable':'Oils', 'value':'Oil %'})\n",
    "fig1.update_layout(title={\n",
    "    'y': .9,\n",
    "    'x': 0.5,\n",
    "    'xanchor': 'center',\n",
    "    'yanchor': 'top'})\n",
    "fig1.show()"
   ]
  },
  {
   "cell_type": "markdown",
   "metadata": {},
   "source": [
    "While both North America and South Africa share citrus and floral as their top two, the rest of the tags are different. North American hops have spicy, pine, and grapefruit which are not in the top five of South African hops. On the other hand, South African hops are described to have herbal, lemongrass, and berry aroma tags which are not present in the American top five.\n",
    "\n",
    "Myrcene is mostly associated with citrusy and resinous-pine aromas. North American hops have pine in their top 5 while South African do not. The expectation is that North American hops have a higher myrcene percentages as compared to South African hops. Based on this data, they do. It can be observed in the plot to the left.\n",
    "\n",
    "Higher humulene concentrations lend to floral, herbal, and black pepper(spicy) aromas, which aligns more so with South African hops than North American hops. The expectation is the South African hops would have higher percentages of humulene. Based on this date, it does. I can be seen in the plot to the right.\n",
    "\n",
    "Caryophyllene is mostly associated with black pepper, spiciness, and herbal aromas. This is also aligned more with the top 5 South African aromas tags. As expected, the plot to the right shows that the average percentages of Caryophyllene are higher in South African hops than North American."
   ]
  },
  {
   "cell_type": "code",
   "execution_count": null,
   "metadata": {},
   "outputs": [],
   "source": [
    "fig2 = px.bar(hops_group2, width=500, height=500,\n",
    "              title=\"Average Oil Concentration\",\n",
    "              labels={'variable':'Oils', 'value':'Oil %'})\n",
    "fig2.update_layout(title={\n",
    "    'y': .9,\n",
    "    'x': 0.5,\n",
    "    'xanchor': 'center',\n",
    "    'yanchor': 'top'})\n",
    "fig2.show()"
   ]
  },
  {
   "cell_type": "markdown",
   "metadata": {},
   "source": [
    "The aroma tags most used to describe Australian and New Zealand are citrus, tropical fruit, pine, passion fruit, and floral. This is quite different than the aroma tags most used to describe European hops, which are floral, spicy, citrus, herbal, and fruity. The only tags shared by both continents are citrus and floral. While citrus is the most used in Australia, it is third in Europe. European hops are most described as floral, which is the fifth most used tag in Australian and New Zealand hops. Some European hops are described as spicy, herbal, and fruity, which do not appear in the Australian and New Zealand top five. On the other hand, Australian and New Zealand hops are described to have passion fruit, tropical fruit, and pine, which are not present in the European top five aromas.\n",
    "\n",
    "Humulene is mostly associated with woody and pine aromas; however, hops with higher amounts tend to be more floral, herbal, and black pepper(spicy) in character. These tags align much more with the European top 5, than the Australian top 5."
   ]
  },
  {
   "cell_type": "markdown",
   "metadata": {},
   "source": [
    "### Choropleths: Geographical Summary of Hops Data"
   ]
  },
  {
   "cell_type": "markdown",
   "metadata": {},
   "source": [
    "Read in geojson data with filtered countries to be used for Folium mapping."
   ]
  },
  {
   "cell_type": "code",
   "execution_count": null,
   "metadata": {
    "tags": []
   },
   "outputs": [],
   "source": [
    "countries_df = gpd.read_file('./raw_data/countries.geojson')\n",
    "countries_df = countries_df[countries_df.ADMIN.isin(hops_p.Country.unique())]\n",
    "countries_df.reset_index(drop=True, inplace=True)\n",
    "countries_df"
   ]
  },
  {
   "cell_type": "markdown",
   "metadata": {},
   "source": [
    "Retrieve country info for values to be used for visualization and add average brew values for each into geojson dataframe."
   ]
  },
  {
   "cell_type": "code",
   "execution_count": null,
   "metadata": {
    "tags": []
   },
   "outputs": [],
   "source": [
    "values_countries = hops_v.merge(hops_p.Country, left_index=True, right_index=True)\n",
    "values_countries.replace([np.inf, -np.inf], np.nan, inplace=True)  # replacing inf values\n",
    "\n",
    "for col in [i for i in values_countries.columns if 'Avg' in i]:  # avg value columns only\n",
    "    mean_values_per_country = values_countries.groupby(by='Country', dropna=True).mean()[col]\n",
    "    countries_df[col] = mean_values_per_country.values\n",
    "\n",
    "# Adding popular aromas for hops for each country\n",
    "country_list = sorted(list(hops_p.Country.unique()))\n",
    "aromas_lists = []\n",
    "for i in range(len(country_list)):\n",
    "    df = hops_p[hops_p.Country == country_list[i]].copy()\n",
    "    df.drop(columns=['Purpose', 'Country'], inplace=True)\n",
    "    aroma_count = df.sum()\n",
    "    aroma_count = aroma_count.astype('int32')\n",
    "    aroma_count = aroma_count.nlargest(n=3, keep='first')\n",
    "    aromas_lists.append(list(aroma_count.index))\n",
    "countries_df['Top 3 Aromas'] = aromas_lists\n",
    "\n",
    "countries_df"
   ]
  },
  {
   "cell_type": "markdown",
   "metadata": {},
   "source": [
    "Output the choropleth visual. For better viewing, refer to the 'images/choro_values.html' in the repository."
   ]
  },
  {
   "cell_type": "code",
   "execution_count": null,
   "metadata": {},
   "outputs": [],
   "source": [
    "m = folium.Map(location=[0, 0], zoom_start=2)  # starting point\n",
    "\n",
    "def create_choro(brew_value):\n",
    "    \"\"\"Sets up choropleth specifications for a given brew value and returns the choropleth object.\"\"\"\n",
    "    choro = folium.Choropleth(\n",
    "        geo_data=countries_df,\n",
    "        name=brew_value,\n",
    "        data=countries_df,\n",
    "        columns=['ADMIN', brew_value],\n",
    "        key_on='feature.properties.ADMIN',\n",
    "        fill_color='YlOrRd',\n",
    "        fill_opacity=0.8,\n",
    "        line_opacity=.2,\n",
    "        line_weight=2,\n",
    "        smooth_factor=0,\n",
    "        Highlight=True,\n",
    "        nan_fill_color='White',\n",
    "        legend_name=f'Brew Value: {brew_value}',\n",
    "        show=False,\n",
    "        highlight=True,\n",
    "        overlay=False\n",
    "    )\n",
    "    return choro\n",
    "\n",
    "# Add choropleth layer for each brew value\n",
    "for brew_value in [i for i in values_countries.columns if 'Avg' in i]:\n",
    "    m.add_child(create_choro(brew_value))\n",
    "\n",
    "# Add information markers for popular aromas\n",
    "centers = countries_df.to_crs('+proj=cea').centroid.to_crs(countries_df.crs)\n",
    "for i in range(len(countries_df)):\n",
    "    m.add_child(\n",
    "        folium.Marker(\n",
    "            location=[centers[i].y, centers[i].x],\n",
    "            popup=f\"\"\"\n",
    "                <p>Top 3 Aromas:</p> <hr>\n",
    "                <p>{countries_df.iloc[i][\"Top 3 Aromas\"][0]}</p> <hr>\n",
    "                <p>{countries_df.iloc[i][\"Top 3 Aromas\"][1]}</p> <hr>\n",
    "                <p>{countries_df.iloc[i][\"Top 3 Aromas\"][2]}</p> <hr>\n",
    "            \"\"\",\n",
    "            icon=folium.Icon(color='blue')\n",
    "        )\n",
    "    )\n",
    "\n",
    "m.add_child(folium.LayerControl(position='topright', collapsed=False))\n",
    "# m.save('./images/choro_values.html')\n",
    "m"
   ]
  }
 ],
 "metadata": {
  "interpreter": {
   "hash": "6349d5530933d93cf3e21968e03519169ffb36bc867125237af3019451770c1e"
  },
  "kernelspec": {
   "display_name": "Python 3 (ipykernel)",
   "language": "python",
   "name": "python3"
  },
  "language_info": {
   "codemirror_mode": {
    "name": "ipython",
    "version": 3
   },
   "file_extension": ".py",
   "mimetype": "text/x-python",
   "name": "python",
   "nbconvert_exporter": "python",
   "pygments_lexer": "ipython3",
   "version": "3.8.5"
  }
 },
 "nbformat": 4,
 "nbformat_minor": 4
}
