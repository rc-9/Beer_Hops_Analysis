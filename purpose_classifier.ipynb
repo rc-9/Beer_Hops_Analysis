{
 "cells": [
  {
   "cell_type": "markdown",
   "id": "49fd134d-5623-4a48-8287-daaa3db513ab",
   "metadata": {
    "tags": []
   },
   "source": [
    "# Beer Hops Data: Purpose Classification Model with XG-Boost\n",
    "\n",
    "**Data Files:** *cln_hops_profile.csv, cln_hops_brewvalues.csv*\n",
    "\n",
    "**Original Source:** *https://beermaverick.com/hops/*  (Data retrieved via web-scraping)\n",
    "\n",
    "------------------------------------------------------------"
   ]
  },
  {
   "cell_type": "markdown",
   "id": "1efd6768-976c-44ac-b65d-ca7498555e30",
   "metadata": {},
   "source": [
    "### Setup\n",
    "\n",
    "**Objective:** Import necessary modules for machine-learning models & visualization and read in CSV files into local dataframes for easier access."
   ]
  },
  {
   "cell_type": "code",
   "execution_count": 1,
   "id": "05bc3601-7c5b-450c-a02a-076321191259",
   "metadata": {},
   "outputs": [],
   "source": [
    "import numpy as np\n",
    "import pandas as pd\n",
    "from xgboost import XGBClassifier\n",
    "from sklearn import model_selection\n",
    "from sklearn.ensemble import RandomForestClassifier\n",
    "from sklearn.metrics import accuracy_score\n",
    "from sklearn.model_selection import train_test_split\n",
    "from sklearn.preprocessing import LabelEncoder"
   ]
  },
  {
   "cell_type": "code",
   "execution_count": 2,
   "id": "37a2bf12-1dd8-4bd8-b1ef-eb6b933eea92",
   "metadata": {},
   "outputs": [
    {
     "data": {
      "text/html": [
       "<div>\n",
       "<style scoped>\n",
       "    .dataframe tbody tr th:only-of-type {\n",
       "        vertical-align: middle;\n",
       "    }\n",
       "\n",
       "    .dataframe tbody tr th {\n",
       "        vertical-align: top;\n",
       "    }\n",
       "\n",
       "    .dataframe thead th {\n",
       "        text-align: right;\n",
       "    }\n",
       "</style>\n",
       "<table border=\"1\" class=\"dataframe\">\n",
       "  <thead>\n",
       "    <tr style=\"text-align: right;\">\n",
       "      <th></th>\n",
       "      <th>Alpha Acid % - Min</th>\n",
       "      <th>Alpha Acid % - Max</th>\n",
       "      <th>Alpha Acid % - Avg</th>\n",
       "      <th>Beta Acid % - Min</th>\n",
       "      <th>Beta Acid % - Max</th>\n",
       "      <th>Beta Acid % - Avg</th>\n",
       "      <th>Alpha-Beta Ratio - Min</th>\n",
       "      <th>Alpha-Beta Ratio - Max</th>\n",
       "      <th>Alpha-Beta Ratio - Avg</th>\n",
       "      <th>Co-Humulone as % of Alpha - Min</th>\n",
       "      <th>...</th>\n",
       "      <th>violet</th>\n",
       "      <th>watermelon</th>\n",
       "      <th>whiskey</th>\n",
       "      <th>white_grape</th>\n",
       "      <th>white_wine</th>\n",
       "      <th>wild</th>\n",
       "      <th>wine</th>\n",
       "      <th>woody</th>\n",
       "      <th>yogurt</th>\n",
       "      <th>zest</th>\n",
       "    </tr>\n",
       "    <tr>\n",
       "      <th>Hop Name</th>\n",
       "      <th></th>\n",
       "      <th></th>\n",
       "      <th></th>\n",
       "      <th></th>\n",
       "      <th></th>\n",
       "      <th></th>\n",
       "      <th></th>\n",
       "      <th></th>\n",
       "      <th></th>\n",
       "      <th></th>\n",
       "      <th></th>\n",
       "      <th></th>\n",
       "      <th></th>\n",
       "      <th></th>\n",
       "      <th></th>\n",
       "      <th></th>\n",
       "      <th></th>\n",
       "      <th></th>\n",
       "      <th></th>\n",
       "      <th></th>\n",
       "      <th></th>\n",
       "    </tr>\n",
       "  </thead>\n",
       "  <tbody>\n",
       "    <tr>\n",
       "      <th>Astra</th>\n",
       "      <td>7.0</td>\n",
       "      <td>10.0</td>\n",
       "      <td>8.5</td>\n",
       "      <td>4.0</td>\n",
       "      <td>6.0</td>\n",
       "      <td>5.0</td>\n",
       "      <td>1.0</td>\n",
       "      <td>3.0</td>\n",
       "      <td>2.0</td>\n",
       "      <td>26.0</td>\n",
       "      <td>...</td>\n",
       "      <td>False</td>\n",
       "      <td>False</td>\n",
       "      <td>False</td>\n",
       "      <td>False</td>\n",
       "      <td>True</td>\n",
       "      <td>False</td>\n",
       "      <td>False</td>\n",
       "      <td>False</td>\n",
       "      <td>False</td>\n",
       "      <td>False</td>\n",
       "    </tr>\n",
       "    <tr>\n",
       "      <th>Eclipse</th>\n",
       "      <td>15.7</td>\n",
       "      <td>19.0</td>\n",
       "      <td>17.4</td>\n",
       "      <td>5.9</td>\n",
       "      <td>9.0</td>\n",
       "      <td>7.5</td>\n",
       "      <td>2.0</td>\n",
       "      <td>3.0</td>\n",
       "      <td>2.0</td>\n",
       "      <td>33.0</td>\n",
       "      <td>...</td>\n",
       "      <td>False</td>\n",
       "      <td>False</td>\n",
       "      <td>False</td>\n",
       "      <td>False</td>\n",
       "      <td>False</td>\n",
       "      <td>False</td>\n",
       "      <td>False</td>\n",
       "      <td>False</td>\n",
       "      <td>False</td>\n",
       "      <td>False</td>\n",
       "    </tr>\n",
       "  </tbody>\n",
       "</table>\n",
       "<p>2 rows × 200 columns</p>\n",
       "</div>"
      ],
      "text/plain": [
       "          Alpha Acid % - Min  Alpha Acid % - Max  Alpha Acid % - Avg  \\\n",
       "Hop Name                                                               \n",
       "Astra                    7.0                10.0                 8.5   \n",
       "Eclipse                 15.7                19.0                17.4   \n",
       "\n",
       "          Beta Acid % - Min  Beta Acid % - Max  Beta Acid % - Avg  \\\n",
       "Hop Name                                                            \n",
       "Astra                   4.0                6.0                5.0   \n",
       "Eclipse                 5.9                9.0                7.5   \n",
       "\n",
       "          Alpha-Beta Ratio - Min  Alpha-Beta Ratio - Max  \\\n",
       "Hop Name                                                   \n",
       "Astra                        1.0                     3.0   \n",
       "Eclipse                      2.0                     3.0   \n",
       "\n",
       "          Alpha-Beta Ratio - Avg  Co-Humulone as % of Alpha - Min  ...  \\\n",
       "Hop Name                                                           ...   \n",
       "Astra                        2.0                             26.0  ...   \n",
       "Eclipse                      2.0                             33.0  ...   \n",
       "\n",
       "          violet  watermelon  whiskey  white_grape  white_wine   wild   wine  \\\n",
       "Hop Name                                                                       \n",
       "Astra      False       False    False        False        True  False  False   \n",
       "Eclipse    False       False    False        False       False  False  False   \n",
       "\n",
       "          woody  yogurt   zest  \n",
       "Hop Name                        \n",
       "Astra     False   False  False  \n",
       "Eclipse   False   False  False  \n",
       "\n",
       "[2 rows x 200 columns]"
      ]
     },
     "execution_count": 2,
     "metadata": {},
     "output_type": "execute_result"
    }
   ],
   "source": [
    "# Read in raw CSV data into local dataframes\n",
    "CLEAN_HOPS_PATH = './clean_data/cln_hops_brewvalues.csv'  \n",
    "CLEAN_HOPS_PROFILE_PATH = './clean_data/cln_hops_profile.csv'\n",
    "hop_values_df = pd.read_csv(CLEAN_HOPS_PATH, index_col='Hop Name')\n",
    "hop_profile_df = pd.read_csv(CLEAN_HOPS_PROFILE_PATH, index_col='Hop Name')\n",
    "\n",
    "# Create a master dataframe indexed on hop name\n",
    "master_df = hop_values_df.merge(hop_profile_df, left_index=True, right_index=True)\n",
    "\n",
    "master_df.head(2)"
   ]
  },
  {
   "cell_type": "markdown",
   "id": "4adce7ee-836f-43f0-b0cc-4bcd9e85d7e3",
   "metadata": {},
   "source": [
    "### Pre-Processing & Feature-Engineering\n",
    "\n",
    "**Objective:** Feature-engineer attributes and prepare dataframe to be fed into boosting model with desired predictor variables of interest in the necessary formats."
   ]
  },
  {
   "cell_type": "markdown",
   "id": "30bc9496-c017-449b-bca5-6aaae8f6f33e",
   "metadata": {},
   "source": [
    "Create region information to be used as potential outcome to classify."
   ]
  },
  {
   "cell_type": "code",
   "execution_count": 3,
   "id": "66b4ab4e-d5e3-4000-bbaa-d99913d27f42",
   "metadata": {},
   "outputs": [],
   "source": [
    "# Create Region column to be used as potential outcome predicted\n",
    "regions = {\n",
    "'Australia': 'Australia',\n",
    "'Canada': 'North America',\n",
    "'China': 'Asia',\n",
    "'Czech Republic': 'Europe',\n",
    "'France': 'Europe',\n",
    "'Germany': 'Europe',\n",
    "'Japan': 'Asia',\n",
    "'New Zealand': 'Australia',\n",
    "'Poland': 'Europe',\n",
    "'Slovenia': 'Europe',\n",
    "'South Africa': 'Africa',\n",
    "'Ukraine': 'Europe',\n",
    "'United Kingdom': 'Europe',\n",
    "'United States of America': 'North America'\n",
    "}\n",
    "master_df['Region'] = master_df.Country.map(lambda x: regions[x])\n",
    "master_df.drop(columns=['Country'], inplace=True)\n",
    "\n",
    "# Remove records of Asia (EDA script showed low amount of hops from China/Japan relative to other countries)\n",
    "master_df = master_df[master_df['Region'] != 'Asia']\n",
    "\n",
    "master_df.replace(float(\"inf\"), np.nan, inplace=True)\n",
    "master_df.dropna(inplace=True)"
   ]
  },
  {
   "cell_type": "markdown",
   "id": "de3553b9-071f-4244-a758-9abd4652b828",
   "metadata": {},
   "source": [
    "Separate X and Y data."
   ]
  },
  {
   "cell_type": "code",
   "execution_count": 4,
   "id": "fddeb137-8c4f-41cb-9cce-da93aa4eb843",
   "metadata": {},
   "outputs": [
    {
     "data": {
      "text/plain": [
       "array(['Dual', 'Aroma', 'Bittering'], dtype=object)"
      ]
     },
     "execution_count": 4,
     "metadata": {},
     "output_type": "execute_result"
    }
   ],
   "source": [
    "# Define array of dependent variable (outcome to predict)\n",
    "Y_data = master_df.Purpose.copy()\n",
    "Y_data.unique()"
   ]
  },
  {
   "cell_type": "code",
   "execution_count": 5,
   "id": "f02ef614-b5ba-4bcc-b488-9d1ce2bb8549",
   "metadata": {},
   "outputs": [],
   "source": [
    "# Define dataframe of independent variables to serve as potential predictors\n",
    "X_data = master_df.copy()\n",
    "X_data.drop(columns=['Purpose'], inplace=True)  # remove Y"
   ]
  },
  {
   "cell_type": "markdown",
   "id": "2b49741f-bbee-40ef-b7f0-745c6c7bfa1a",
   "metadata": {},
   "source": [
    "Reformat X and Y in appropriate formats necessary for model."
   ]
  },
  {
   "cell_type": "code",
   "execution_count": 6,
   "id": "0e372b1b-83bf-4573-9cbd-4e4f4415afc6",
   "metadata": {},
   "outputs": [
    {
     "data": {
      "text/plain": [
       "array([2, 2, 0, 2, 0, 0, 0, 2, 0, 2, 2, 0, 0, 2, 1, 0, 0, 1, 0, 0, 0, 2,\n",
       "       0, 0, 0])"
      ]
     },
     "execution_count": 6,
     "metadata": {},
     "output_type": "execute_result"
    }
   ],
   "source": [
    "# Label encode the multi-class outcome variable\n",
    "label_encoder = LabelEncoder()\n",
    "label_encoder = label_encoder.fit(Y_data)\n",
    "Y_data = label_encoder.transform(Y_data)\n",
    "Y_data[0:25]  # check encoding"
   ]
  },
  {
   "cell_type": "code",
   "execution_count": 7,
   "id": "17c268fb-de19-42c0-a26f-ffb6a0e187a4",
   "metadata": {},
   "outputs": [
    {
     "data": {
      "text/plain": [
       "['Region_Australia', 'Region_Europe', 'Region_North America']"
      ]
     },
     "execution_count": 7,
     "metadata": {},
     "output_type": "execute_result"
    }
   ],
   "source": [
    "# Create dummy variables for remaining categorical variables\n",
    "X_data = pd.get_dummies(X_data, prefix=None, prefix_sep='_', dummy_na=False, columns=['Region'], sparse=False)\n",
    "X_data.columns.tolist()[-3:]  # check dummy columns were created"
   ]
  },
  {
   "cell_type": "code",
   "execution_count": 8,
   "id": "e436aebb-7074-4af9-a002-fa27e7568e4c",
   "metadata": {},
   "outputs": [],
   "source": [
    "# Convert boolean columns into ints \n",
    "bool_cols = [i for i in hop_profile_df.columns if i not in ['Country', 'Purpose']]\n",
    "for col in bool_cols:\n",
    "    X_data[col] = X_data[col].astype('bool')\n",
    "    X_data[col] = X_data[col].astype('int')"
   ]
  },
  {
   "cell_type": "markdown",
   "id": "83a66353-d2d2-4c09-b4b1-cd4a9e0e70f2",
   "metadata": {},
   "source": [
    "Choose any columns to drop (not use as predictor)."
   ]
  },
  {
   "cell_type": "code",
   "execution_count": 9,
   "id": "48dc8716-7af3-49a8-9ebb-e3f708b7af88",
   "metadata": {},
   "outputs": [],
   "source": [
    "# Drop out unwanted brew values columns (based on EDA from step3)\n",
    "X_data.drop(columns=[\n",
    "#     'Region',\n",
    "    'Alpha Acid % - Min',\n",
    "    'Alpha Acid % - Max',\n",
    "#     'Alpha Acid % - Avg',\n",
    "    'Beta Acid % - Min',\n",
    "    'Beta Acid % - Max',\n",
    "#     'Beta Acid % - Avg',\n",
    "    'Alpha-Beta Ratio - Min',\n",
    "    'Alpha-Beta Ratio - Max',\n",
    "#     'Alpha-Beta Ratio - Avg',\n",
    "    'Co-Humulone as % of Alpha - Min',\n",
    "    'Co-Humulone as % of Alpha - Max',\n",
    "#     'Co-Humulone as % of Alpha - Avg',\n",
    "    'Total Oils (mL/100g) - Min',\n",
    "    'Total Oils (mL/100g) - Max',\n",
    "#     'Total Oils (mL/100g) - Avg',\n",
    "    'Myrcene - Min',\n",
    "    'Myrcene - Max',\n",
    "#     'Myrcene - Avg',\n",
    "    'Humulene - Min',\n",
    "    'Humulene - Max',\n",
    "#     'Humulene - Avg',\n",
    "    'Caryophyllene - Min',\n",
    "    'Caryophyllene - Max',\n",
    "#     'Caryophyllene - Avg',\n",
    "    'Farnesene - Min',\n",
    "    'Farnesene - Max',\n",
    "#     'Farnesene - Avg',\n",
    "    'Other Oils - Min',\n",
    "    'Other Oils - Max'\n",
    "], inplace=True)"
   ]
  },
  {
   "cell_type": "markdown",
   "id": "de3cd82b-53f1-4b1d-ab25-113b483535e4",
   "metadata": {
    "tags": []
   },
   "source": [
    "### Data-Partitioning\n",
    "\n",
    "**Objective:** Split dataset to prepare a training set and a testing set to be able to fit a model and evaluate its performance."
   ]
  },
  {
   "cell_type": "code",
   "execution_count": 10,
   "id": "3bf066be-0977-40c6-b9c2-e6d762ca673a",
   "metadata": {},
   "outputs": [
    {
     "name": "stdout",
     "output_type": "stream",
     "text": [
      "127\n",
      "55\n",
      "127\n",
      "55\n"
     ]
    }
   ],
   "source": [
    "# Split X & Y data as per desired specifications\n",
    "X_train, X_test, y_train, y_test = train_test_split(X_data, Y_data, test_size=0.3, random_state=123)\n",
    "\n",
    "print(len(X_train))\n",
    "print(len(X_test))\n",
    "print(len(y_train))\n",
    "print(len(y_test))"
   ]
  },
  {
   "cell_type": "markdown",
   "id": "3e0c7355-4d0e-49d8-ac62-02819499fedd",
   "metadata": {},
   "source": [
    "### Model Fitting: Random Forest\n",
    "\n",
    "**Objective:** Execute a tree-based ensemble bagging algorithm to train model & predict the country categorical variable on the test dataset. "
   ]
  },
  {
   "cell_type": "code",
   "execution_count": 11,
   "id": "3c9c61a8-4a7e-4672-8825-2c15e3834959",
   "metadata": {},
   "outputs": [
    {
     "data": {
      "text/plain": [
       "RandomForestClassifier(max_depth=15, random_state=123)"
      ]
     },
     "execution_count": 11,
     "metadata": {},
     "output_type": "execute_result"
    }
   ],
   "source": [
    "# Instantiate classifier object with desired parameters\n",
    "rf_model = RandomForestClassifier(\n",
    "    max_depth=15, \n",
    "    random_state=123\n",
    ")\n",
    "\n",
    "# Fit the training data\n",
    "rf_model.fit(X_train, y_train)"
   ]
  },
  {
   "cell_type": "markdown",
   "id": "e055d8c5-3f49-4990-a0a6-d0f99c6f9b23",
   "metadata": {},
   "source": [
    "### Model Evaluation: Random Forest\n",
    "\n",
    "**Objective:** Evaluate model based on the test data set results."
   ]
  },
  {
   "cell_type": "code",
   "execution_count": 12,
   "id": "e0ad8ad4-0e7e-4a78-85bb-95a4813d33a9",
   "metadata": {},
   "outputs": [],
   "source": [
    "# Apply model on test set to make region predictions\n",
    "y_pred = rf_model.predict(X_test)\n",
    "predictions = [value for value in y_pred]"
   ]
  },
  {
   "cell_type": "code",
   "execution_count": 13,
   "id": "89073856-08db-4e21-8c0d-fdcbceb59f85",
   "metadata": {},
   "outputs": [
    {
     "name": "stdout",
     "output_type": "stream",
     "text": [
      "Accuracy: 74.55%\n"
     ]
    }
   ],
   "source": [
    "# Evaluate predictions\n",
    "accuracy = accuracy_score(y_test, y_pred)\n",
    "print(\"Accuracy: %.2f%%\" % (accuracy * 100.0))"
   ]
  },
  {
   "cell_type": "markdown",
   "id": "3f85c54b-06b4-4a3b-b44f-fa5683213ae5",
   "metadata": {},
   "source": [
    "We see that with the Random Forest Algorithm, the accuracy is just below 70%. To see if this can be further improved, we will fit a boosted algorithm next."
   ]
  },
  {
   "cell_type": "markdown",
   "id": "19425f69-fdf4-462c-aedd-1eef1e39d9cd",
   "metadata": {},
   "source": [
    "### Model Fitting: XG-Boost\n",
    "\n",
    "**Objective:** Execute tree-based ensemble boosting algorithm to train model & predict the country categorical variable on the test dataset. "
   ]
  },
  {
   "cell_type": "code",
   "execution_count": 14,
   "id": "c0ec2885-8961-425b-8c27-454d2e9184f8",
   "metadata": {},
   "outputs": [
    {
     "data": {
      "text/plain": [
       "XGBClassifier(base_score=0.5, booster='gbtree', colsample_bylevel=1,\n",
       "              colsample_bynode=1, colsample_bytree=1, enable_categorical=False,\n",
       "              eval_metric='logloss', gamma=0, gpu_id=-1, importance_type=None,\n",
       "              interaction_constraints='', learning_rate=0.3, max_delta_step=0,\n",
       "              max_depth=15, min_child_weight=1, missing=nan,\n",
       "              monotone_constraints='()', n_estimators=200, n_jobs=12,\n",
       "              num_parallel_tree=1, objective='multi:softprob', predictor='auto',\n",
       "              random_state=123, reg_alpha=0, reg_lambda=1,\n",
       "              scale_pos_weight=None, subsample=1, tree_method='exact',\n",
       "              use_label_encoder=False, validate_parameters=1, ...)"
      ]
     },
     "execution_count": 14,
     "metadata": {},
     "output_type": "execute_result"
    }
   ],
   "source": [
    "# Instantiate classifier object with desired parameters\n",
    "xg_model = XGBClassifier(\n",
    "    base_score=0.5, \n",
    "    booster='gbtree', \n",
    "    colsample_bylevel=1,\n",
    "    colsample_bynode=1, \n",
    "    colsample_bytree=1, \n",
    "    enable_categorical=False,\n",
    "    eval_metric='logloss',\n",
    "    gamma=0, \n",
    "    gpu_id=-1, \n",
    "    importance_type=None,\n",
    "    interaction_constraints='', \n",
    "    learning_rate=0.3,\n",
    "    max_delta_step=0,\n",
    "    max_depth=15, \n",
    "    min_child_weight=1, \n",
    "    missing=np.nan,\n",
    "    monotone_constraints='()', \n",
    "    n_estimators=200, \n",
    "    n_jobs=12,\n",
    "    num_parallel_tree=1, \n",
    "    objective='multi:softprob', \n",
    "    predictor='auto',\n",
    "    random_state=123, \n",
    "    reg_alpha=0, \n",
    "    reg_lambda=1, \n",
    "    scale_pos_weight=None,\n",
    "    subsample=1, \n",
    "    tree_method='exact', \n",
    "    use_label_encoder=False,\n",
    "    validate_parameters=1, \n",
    "    verbosity=None\n",
    ")\n",
    "\n",
    "# Fit the training data\n",
    "xg_model.fit(X_train, y_train)"
   ]
  },
  {
   "cell_type": "markdown",
   "id": "bef9f994-47fd-4451-89d1-b0f896e6c634",
   "metadata": {},
   "source": [
    "### Model Evaluation: XG-Boost\n",
    "\n",
    "**Objective:** Evaluate model based on the test data set results."
   ]
  },
  {
   "cell_type": "code",
   "execution_count": 15,
   "id": "a0550c2c-2956-496f-bb92-8bd7c4732a65",
   "metadata": {},
   "outputs": [],
   "source": [
    "# Apply model on test set to make region predictions\n",
    "y_pred = xg_model.predict(X_test)\n",
    "predictions = [value for value in y_pred]"
   ]
  },
  {
   "cell_type": "code",
   "execution_count": 16,
   "id": "529641a7-4ed1-4a17-8510-41b5b64e516c",
   "metadata": {
    "tags": []
   },
   "outputs": [
    {
     "name": "stdout",
     "output_type": "stream",
     "text": [
      "Accuracy: 58.18%\n"
     ]
    }
   ],
   "source": [
    "# Evaluate predictions\n",
    "accuracy = accuracy_score(y_test, predictions)\n",
    "print(\"Accuracy: %.2f%%\" % (accuracy * 100.0))"
   ]
  },
  {
   "cell_type": "markdown",
   "id": "7c4bb1a6-3a8a-465c-9eda-449d25bc730b",
   "metadata": {},
   "source": [
    "### Model Analysis:\n",
    "\n",
    "EDA showed strong relationships between hop purpose and its respective brew values. In an effort to gain a better sense of this relationship, a model was built to classify purpose with respect to the remaining attributes serving as predictors. We see a similar classification accuracy score from this model and a corresponding tool was built below. "
   ]
  },
  {
   "cell_type": "markdown",
   "id": "6430f5de-a23a-417c-a173-0e4540a2b280",
   "metadata": {},
   "source": [
    "### Hop Classification Tool\n",
    "**Objective:** Design a tool that would take brew value and aroma info and output a predicted region classification based on that data."
   ]
  },
  {
   "cell_type": "markdown",
   "id": "8249a24d-703b-419c-99b7-6d1a8e67d4cd",
   "metadata": {},
   "source": [
    "#### How to use this tool:\n",
    "\n",
    "1) Go to Beer Hops database webpage: https://beermaverick.com/hops/\n",
    "2) Click on any hop we are interested in predicting the purpose.\n",
    "3) Run the following cell-block and enter each corresponding data for the brew values and aroma tags as shown in example below:\n",
    "- 17.4, \n",
    "- 7.5, \n",
    "- 12, \n",
    "- 35, \n",
    "- 2.3, \n",
    "- 42, \n",
    "- 1, \n",
    "- 9, \n",
    "- 0.5, \n",
    "- citrus, pine, mandarin\n",
    "- Australia\n",
    "4) Then execute the remaining cell-blocks to get a predicted purpose."
   ]
  },
  {
   "cell_type": "code",
   "execution_count": 17,
   "id": "8a3c0f74-7e7b-4549-9650-013b88027aaf",
   "metadata": {},
   "outputs": [
    {
     "name": "stdout",
     "output_type": "stream",
     "text": [
      "Please input the following values. (Enter 'NA' if unknown)\n"
     ]
    },
    {
     "name": "stdin",
     "output_type": "stream",
     "text": [
      "Please enter the Alpha Acid % - Avg:  17.4\n",
      "Please enter the Beta Acid % - Avg:  7.5\n",
      "Please enter the Alpha-Beta Ratio - Avg:  12\n",
      "Please enter the Co-Humulone as % of Alpha - Avg:  35\n",
      "Please enter the Total Oils (mL/100g) - Avg:  2.3\n",
      "Please enter the Myrcene - Avg:  42\n",
      "Please enter the Humulene - Avg:  1\n",
      "Please enter the Caryophyllene - Avg:  9\n",
      "Please enter the Farnesene - Avg:  0.5\n",
      "List all aromas in comma-separated format:  citrus, pine, mandarin\n",
      "Please enter the region:  Australia\n"
     ]
    }
   ],
   "source": [
    "# Take in user input of brew values\n",
    "print(\"Please input the following values. (Enter 'NA' if unknown)\")\n",
    "aa = input(\"Please enter the Alpha Acid % - Avg: \")\n",
    "ba = input(\"Please enter the Beta Acid % - Avg: \")\n",
    "abr = input(\"Please enter the Alpha-Beta Ratio - Avg: \")\n",
    "ch = input(\"Please enter the Co-Humulone as % of Alpha - Avg: \")\n",
    "to = input(\"Please enter the Total Oils (mL/100g) - Avg: \")\n",
    "myr = input(\"Please enter the Myrcene - Avg: \")\n",
    "hum = input(\"Please enter the Humulene - Avg: \")\n",
    "car = input(\"Please enter the Caryophyllene - Avg: \")\n",
    "far = input(\"Please enter the Farnesene - Avg: \")\n",
    "\n",
    "# Take in user input for aromas\n",
    "aroma_input = input(\"List all aromas in comma-separated format: \")\n",
    "\n",
    "# Take in user input for hop region\n",
    "region_input = input(\"Please enter the region: \")"
   ]
  },
  {
   "cell_type": "code",
   "execution_count": 20,
   "id": "c177a4db-cdb2-43c2-b7db-0b57173ce73c",
   "metadata": {},
   "outputs": [
    {
     "data": {
      "text/html": [
       "<div>\n",
       "<style scoped>\n",
       "    .dataframe tbody tr th:only-of-type {\n",
       "        vertical-align: middle;\n",
       "    }\n",
       "\n",
       "    .dataframe tbody tr th {\n",
       "        vertical-align: top;\n",
       "    }\n",
       "\n",
       "    .dataframe thead th {\n",
       "        text-align: right;\n",
       "    }\n",
       "</style>\n",
       "<table border=\"1\" class=\"dataframe\">\n",
       "  <thead>\n",
       "    <tr style=\"text-align: right;\">\n",
       "      <th></th>\n",
       "      <th>Alpha Acid % - Avg</th>\n",
       "      <th>Beta Acid % - Avg</th>\n",
       "      <th>Alpha-Beta Ratio - Avg</th>\n",
       "      <th>Co-Humulone as % of Alpha - Avg</th>\n",
       "      <th>Total Oils (mL/100g) - Avg</th>\n",
       "      <th>Myrcene - Avg</th>\n",
       "      <th>Humulene - Avg</th>\n",
       "      <th>Caryophyllene - Avg</th>\n",
       "      <th>Farnesene - Avg</th>\n",
       "      <th>alfalfa</th>\n",
       "      <th>...</th>\n",
       "      <th>white_wine</th>\n",
       "      <th>wild</th>\n",
       "      <th>wine</th>\n",
       "      <th>woody</th>\n",
       "      <th>yogurt</th>\n",
       "      <th>zest</th>\n",
       "      <th>Region_Africa</th>\n",
       "      <th>Region_Australia</th>\n",
       "      <th>Region_Europe</th>\n",
       "      <th>Region_North America</th>\n",
       "    </tr>\n",
       "  </thead>\n",
       "  <tbody>\n",
       "    <tr>\n",
       "      <th>0</th>\n",
       "      <td>17.4</td>\n",
       "      <td>7.5</td>\n",
       "      <td>12.0</td>\n",
       "      <td>35.0</td>\n",
       "      <td>2.3</td>\n",
       "      <td>42.0</td>\n",
       "      <td>1.0</td>\n",
       "      <td>9.0</td>\n",
       "      <td>0.5</td>\n",
       "      <td>0</td>\n",
       "      <td>...</td>\n",
       "      <td>0</td>\n",
       "      <td>0</td>\n",
       "      <td>0</td>\n",
       "      <td>0</td>\n",
       "      <td>0</td>\n",
       "      <td>0</td>\n",
       "      <td>0</td>\n",
       "      <td>1</td>\n",
       "      <td>0</td>\n",
       "      <td>0</td>\n",
       "    </tr>\n",
       "  </tbody>\n",
       "</table>\n",
       "<p>1 rows × 182 columns</p>\n",
       "</div>"
      ],
      "text/plain": [
       "   Alpha Acid % - Avg  Beta Acid % - Avg  Alpha-Beta Ratio - Avg  \\\n",
       "0                17.4                7.5                    12.0   \n",
       "\n",
       "   Co-Humulone as % of Alpha - Avg  Total Oils (mL/100g) - Avg  Myrcene - Avg  \\\n",
       "0                             35.0                         2.3           42.0   \n",
       "\n",
       "   Humulene - Avg  Caryophyllene - Avg  Farnesene - Avg  alfalfa  ...  \\\n",
       "0             1.0                  9.0              0.5        0  ...   \n",
       "\n",
       "   white_wine  wild  wine  woody  yogurt  zest  Region_Africa  \\\n",
       "0           0     0     0      0       0     0              0   \n",
       "\n",
       "   Region_Australia  Region_Europe  Region_North America  \n",
       "0                 1              0                     0  \n",
       "\n",
       "[1 rows x 182 columns]"
      ]
     },
     "execution_count": 20,
     "metadata": {},
     "output_type": "execute_result"
    }
   ],
   "source": [
    "# Create dataframe from input data\n",
    "input_val_dict = {\n",
    "    'Alpha Acid % - Avg': aa, \n",
    "    'Beta Acid % - Avg': ba, \n",
    "    'Alpha-Beta Ratio - Avg': abr,\n",
    "    'Co-Humulone as % of Alpha - Avg': ch, \n",
    "    'Total Oils (mL/100g) - Avg': to, \n",
    "    'Myrcene - Avg': myr, \n",
    "    'Humulene - Avg': hum, \n",
    "    'Caryophyllene - Avg': car, \n",
    "    'Farnesene - Avg': far\n",
    "}\n",
    "\n",
    "input_df = pd.DataFrame()\n",
    "for col in input_val_dict.keys():\n",
    "    if input_val_dict[col] != 'NA':\n",
    "        input_df[col] = [float(input_val_dict[col])]\n",
    "    else:\n",
    "        input_df[col] = [np.nan]  \n",
    "\n",
    "for col in X_data.columns.tolist():\n",
    "    if col not in input_df.columns:\n",
    "        input_df[col] = 0\n",
    "\n",
    "for col in aroma_input.split(','):\n",
    "    if ' ' == col[0]:\n",
    "        input_df[col[1:]] = 1\n",
    "    else:\n",
    "        input_df[col] = 1\n",
    "\n",
    "input_df['Region_' + region_input] = 1\n",
    "    \n",
    "input_df"
   ]
  },
  {
   "cell_type": "code",
   "execution_count": 21,
   "id": "fe027057-fea4-4474-a624-b9144355b95a",
   "metadata": {},
   "outputs": [
    {
     "name": "stdout",
     "output_type": "stream",
     "text": [
      "Predicted Purpose:  Dual\n"
     ]
    }
   ],
   "source": [
    "# For this classifier, we chose the model that yielded the better accuracy from the model evaluation steps.\n",
    "def region_classfier(input_df):\n",
    "    purpose = ['Aroma', 'Bittering', 'Dual']\n",
    "    if input_df.isna().sum().sum() > 0:\n",
    "        pred = xg_model.predict(input_df)\n",
    "    else:\n",
    "        pred = rf_model.predict(input_df)\n",
    "    predicted_purpose = purpose[pred[0]]\n",
    "    print(\"Predicted Purpose: \", predicted_purpose)\n",
    "    \n",
    "region_classfier(input_df)"
   ]
  },
  {
   "cell_type": "markdown",
   "id": "9c557d42-ee6f-46a6-bb39-58fdc370e8c8",
   "metadata": {},
   "source": [
    "This tool can come in handy for trying to figure out the purpose of a hop and can be customized in future implementations to further filter for only necessary parameters."
   ]
  }
 ],
 "metadata": {
  "kernelspec": {
   "display_name": "Python 3 (ipykernel)",
   "language": "python",
   "name": "python3"
  },
  "language_info": {
   "codemirror_mode": {
    "name": "ipython",
    "version": 3
   },
   "file_extension": ".py",
   "mimetype": "text/x-python",
   "name": "python",
   "nbconvert_exporter": "python",
   "pygments_lexer": "ipython3",
   "version": "3.8.5"
  }
 },
 "nbformat": 4,
 "nbformat_minor": 5
}
