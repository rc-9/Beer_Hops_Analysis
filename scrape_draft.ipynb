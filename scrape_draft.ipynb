{
 "cells": [
  {
   "cell_type": "markdown",
   "id": "df5ee6ca-8469-41d3-a855-dfbe7f5bc1ee",
   "metadata": {
    "tags": []
   },
   "source": [
    "# Data-Collection from Beer Maverick Hops Database \n",
    "\n",
    "**Source**: https://beermaverick.com/hops/\n",
    "\n",
    "**Method**: Web-Scraping\n",
    "\n",
    "------------------------------------------------------------"
   ]
  },
  {
   "cell_type": "markdown",
   "id": "80300bb5-8642-41de-bcbc-dc27cc6a194c",
   "metadata": {},
   "source": [
    "### Setup & Validation\n",
    "**Objective**: Import required modules and validate scraping capability."
   ]
  },
  {
   "cell_type": "code",
   "execution_count": 40,
   "id": "983f54f4-f060-47c8-9d6b-5be28e65be43",
   "metadata": {},
   "outputs": [],
   "source": [
    "# Import necessary packages\n",
    "import numpy as np\n",
    "import os\n",
    "import pandas as pd\n",
    "import requests\n",
    "import unicodedata2\n",
    "import urllib.robotparser\n",
    "from bs4 import BeautifulSoup as bsoup\n",
    "from time import sleep"
   ]
  },
  {
   "cell_type": "code",
   "execution_count": 42,
   "id": "00f5f86c-477b-4054-9823-9bd626fb93be",
   "metadata": {},
   "outputs": [
    {
     "data": {
      "text/plain": [
       "True"
      ]
     },
     "execution_count": 42,
     "metadata": {},
     "output_type": "execute_result"
    }
   ],
   "source": [
    "# Use RobotParser to check validity of scraping on endpoint of interest (checking only for first page)\n",
    "rp = urllib.robotparser.RobotFileParser()\n",
    "rp.set_url('https://beermaverick.com/robots.txt')\n",
    "rp.read()\n",
    "rp.can_fetch('*', 'https://beermaverick.com/hops/')"
   ]
  },
  {
   "cell_type": "markdown",
   "id": "158827cf-164e-4bcc-82fd-7adbf9b89038",
   "metadata": {},
   "source": [
    "### Base URL Scraping\n",
    "**Objective:** Generate a list of all hops (to use for endpoint URLs) for further scraping & data retrieval. "
   ]
  },
  {
   "cell_type": "code",
   "execution_count": 36,
   "id": "54e95556-dfcb-4034-b4f0-bbffa9c7713d",
   "metadata": {},
   "outputs": [],
   "source": [
    "base_url = 'https://beermaverick.com/hops/'\n",
    "response = requests.get('https://beermaverick.com/hops/')\n",
    "\n",
    "if response.status_code == 200:\n",
    "    \n",
    "    # Instantiate BS4 for parsing the HTML data (can also do via lxml)\n",
    "    soup = bsoup(response.text, 'html')\n",
    "    \n",
    "    # Find section with hops names\n",
    "    hopnames_section = soup.find_all('div', {'class':'box-inner-p-bigger box-single'})\n",
    "    \n",
    "    # Obtain correct section (since multiple exist with same class tag)\n",
    "    hopnames_section = hopnames_section[1]\n",
    "    \n",
    "    # Retrieve text of all hops names into list (separated by comma delimeter)\n",
    "    hopnames = hopnames_section.text.split(',')\n",
    "    "
   ]
  },
  {
   "cell_type": "code",
   "execution_count": 37,
   "id": "a65451aa-9813-4cde-83ce-6d5366cdc16e",
   "metadata": {},
   "outputs": [],
   "source": [
    "# Use bash commands & pythonic tools to clean hops_list\n",
    "\n",
    "hops_list = []\n",
    "# for i in hopnames:\n",
    "#     !echo \"$i\" | read word\n",
    "#     !export word\n",
    "#     hops_list.append(os.environ['word'])\n",
    "\n",
    "# print(hopnames)\n",
    "# print(hops_list)"
   ]
  },
  {
   "cell_type": "code",
   "execution_count": 38,
   "id": "9d4e8e40-55e4-49a5-9ca9-8903ebeaf79d",
   "metadata": {},
   "outputs": [
    {
     "name": "stdout",
     "output_type": "stream",
     "text": [
      "['Astra', 'Eclipse', 'Ella', 'Enigma', 'Feux-Coeur-Francais', 'Galaxy', 'Helga', 'HPA-016', 'Melba', 'Pride-of-Ringwood', 'Summer', 'Super-Pride', 'Sylva', 'Topaz', 'Vic-Secret', 'Vienna-Gold', 'Canadian-Redvine', 'Lumberjack', 'Sasquatch', 'Wild-Loyalist', 'Marco-Polo', 'Tsingdao-Flower', 'Agnus', 'Amethyst', 'Bohemie', 'Boomerang', 'Bor', 'Gaia', 'Harmonie', 'Kazbek', 'Mimosa', 'Premiant', 'Saaz-CZ', 'Saaz-Late', 'Sladek', 'Vital', 'Aramis', 'Barbe-Rouge', 'Bouclier', 'Elixir', 'Mistral', 'Petit-Blanc', 'Strisselspalt', 'Tardif-de-Bourgogne', 'Triskel', 'Akoya', 'Ariana', 'Aurum', 'brewers-gold', 'Callista', 'Diamant', 'Hallertau-Blanc', 'Hallertau-Gold', 'Hallertau-Mittelfruh', 'Hallertau-Tradition', 'Herkules', 'Hersbrucker', 'Huell-Melon', 'Huller-Bitterer', 'Magnum-GR', 'Mandarina-Bavaria', 'Merkur', 'Monroe', 'Northern-Brewer-GR', 'Opal', 'Orion', 'Perle-GR', 'Polaris', 'Relax', 'Saphir', 'Smaragd', 'Solero', 'Spalt', 'Spalter-Select', 'Tettnanger', 'Wurttemberg', 'Yellow-Sub', 'Golden-Star', 'Sorachi-Ace', 'Toyomidori', 'Brooklyn', 'Dr-Rudi', 'Green-Bullet', 'HORT9909', 'Kohatu', 'Motueka', 'Moutere', 'Nectaron', 'Nelson-Sauvin', 'Pacific-Gem', 'Pacific-Jade', 'Pacific-Sunrise', 'Pacifica', 'Rakau', 'Riwaka', 'Smooth-Cone', 'Southern-Cross', 'Sticklebract', 'Taiheke', 'Wai-iti', 'Waimea', 'Wakatu', 'Junga', 'Limbus', 'lublin', 'Magnat', 'Marynka', 'Pulawski', 'Sybilla', 'Zula', 'Apolon', 'Atlas', 'Aurora', 'Bobek', 'Cekin', 'Celeia', 'Dana', 'cardinal', 'Styrian-Dragon', 'Styrian-Eagle', 'Styrian-Fox', 'Styrian-Golding', 'Styrian-Kolibri', 'Styrian-Wolf', 'African-Queen', 'Southern-Aroma', 'Southern-Brewer', 'Southern-Dawn', 'Southern-Passion', 'Southern-Promise', 'Southern-Star', 'Southern-Sublime', 'Southern-Tropic', 'XJA2-436', 'Zagrava', 'Admiral', 'Archer', 'Beata', 'Boadicea', 'Bramling-Cross', 'Challenger', 'Defender', 'East-Kent-Goldings', 'Endeavour', 'Epic', 'First-Gold', 'Flyer', 'Fuggle', 'Godiva', 'Hallertau-Taurus', 'Harlequin', 'Herald', 'Jester', 'Minstrel', 'Olicana', 'Omega', 'Phoenix', 'Pilgrim', 'Pilot', 'Pioneer', 'Progress', 'Sovereign', 'Sussex', 'Target', 'Whitbread-Golding-Variety-WGV', 'Yeoman', 'Adeena', 'Ahtanum', 'Aloha', 'Altus', 'Amarillo', 'Apollo', 'Aquila', 'Arcadian', 'Azacca', 'Banner', 'Belma', 'Bergamot', 'Bianca', 'Bitter-Gold', 'Bravo', 'brewers-gold', 'BRU-1', 'Bullion', 'Buzz-Bullets', 'Caliente', 'Calypso', 'Cascade', 'Cashmere', 'Centennial', 'Chelan', 'Chinook', 'Citra', 'Cluster', 'Columbia', 'Columbus', 'Comet', 'Contessa', 'Crystal', 'CTZ', 'Delta', 'Diamond-Springs', 'Ekuanot', 'El-Dorado', 'Emerald-Spire', 'Equinox', 'Eroica', 'Eureka', 'Evergreen', \"Falconer's-Flight\", \"Falconer's-Flight-7CS\", 'Fantasia', 'Galena', 'Gemini', 'Glacier', 'Golding', 'Grungeist', 'hallertau', 'Hartwick', 'HBC-360', 'HBC472', 'HBC692', 'Horizon', 'Hydra', 'Idaho-7', 'Idaho-Gem', 'Independence', 'Jarrylo', 'Lambic', 'Lawton', 'Lemondrop', 'Liberty', 'Loral', 'Lotus', 'Mackinac', 'Magnum-US', 'Medusa', 'Meridian', 'Michigan-Copper', 'Millennium', 'Mosaic', 'Mount-Hood', 'Mount-Rainier', 'Multihead', 'Newport', 'Nobility', 'Northdown', 'Northern-Brewer-US', 'Nugget', 'Old-Mission', 'Olympic', 'Pacific-Crest', 'Pahto', 'Palisade', 'Paradigm', 'Pekko', 'Perle-US', 'Petoskey', 'Prussian', 'Saaz-US', 'Sabro', 'Samba', 'Santiam', 'Satus', 'Saugatuck', 'Sequoia', 'Shaddock', 'Simcoe', 'Sitiva', 'Sonnet', 'Sterling', 'Sticky-Fingers', 'Strata', 'denali', 'Summit', 'Sun', 'Super-Galena', 'Tahoma', 'Talisman', 'Talus', 'Teamaker', 'Tettnang-US', 'Tillicum', 'TNT-Blend', 'Tomahawk', 'Trident', 'TriplePearl', 'Triumph', 'Tropica', 'Ultra', 'Vanguard', 'Walhalla', 'Warrior', 'Wild-Wolf', 'Willamette', 'X13459', 'Yakima-Cluster', 'Yakima-Gold', 'Zamba', 'Zappa', 'Zenia', 'Zenith', 'Zeus', 'Zythos']\n"
     ]
    }
   ],
   "source": [
    "hops_list = []\n",
    "\n",
    "# Remove unwanted text (country names & end quotes)\n",
    "cleaner_dict = {\n",
    "    '\\n\\n\\nAustralia':'', \n",
    "    'Canada':', ', \n",
    "    'China':', ', \n",
    "    'Czech Replublic':', ', \n",
    "    'Czech Republic':', ', \n",
    "    'France':', ', \n",
    "    'Germany':', ',\n",
    "    'Japan':', ', \n",
    "    'New Zealand':', ', \n",
    "    'Poland':', ', \n",
    "    'Slovenia':', ', \n",
    "    'South Africa':', ', \n",
    "    'Ukraine':', ', \n",
    "    'United Kingdom':', ',\n",
    "    'United States of America':', ',\n",
    "    '\\n\\n\\n\\nIf you see an error in our data':'',\n",
    "    ' please let us know!\\n\\n\\n':'',\n",
    "    '\\n':''\n",
    "}\n",
    "for name in hopnames:\n",
    "    \n",
    "    if name[0] == ' ':\n",
    "        name = name[1:]\n",
    "    if name[-1] == ' ':\n",
    "        name = name[:-1]\n",
    "    for text in cleaner_dict:\n",
    "        if text in name:\n",
    "            name = name.replace(text, cleaner_dict[text])\n",
    "    if ' ' in name:\n",
    "        name = name.replace(' ', '-')\n",
    "    name = name.replace('(', '')\n",
    "    name = name.replace(')', '')\n",
    "    if name[-1] == '-':\n",
    "        name = name[:-1]\n",
    "    \n",
    "    if '&' in name:\n",
    "        two_hops = name.split('&')\n",
    "        for hop in two_hops:\n",
    "            if hop[-1] == '-':\n",
    "                hop = hop[:-1]\n",
    "            if hop[0] == '-':\n",
    "                hop = hop[1:]\n",
    "            hops_list.append(hop)\n",
    "\n",
    "    else:\n",
    "        hops_list.append(name)\n",
    "        \n",
    "hopnames = hops_list[:-1]\n",
    "hop_list = []\n",
    "\n",
    "for name in hopnames:\n",
    "    name = str(unicodedata2.normalize('NFD', name).encode('ascii', 'ignore'))\n",
    "    name = name[2:]\n",
    "    name = name[:-1]\n",
    "    if ',' in name:\n",
    "        two_names = name.split(',')\n",
    "        for hop in two_names:\n",
    "            if hop[0] == '-':\n",
    "                hop = hop[1:]\n",
    "            if hop[-1] == '-':\n",
    "                hop = hop[:-1]\n",
    "            hop_list.append(hop)\n",
    "    elif name == \"Dr.-Rudi\":\n",
    "        name = 'Dr-Rudi'\n",
    "        hop_list.append(name)\n",
    "    elif name in ['HBC-360', 'HBC-472', 'HBC-692']:\n",
    "        name = name[0:3] + name[4:]\n",
    "        hop_list.append(name)\n",
    "    elif 'Brewer\\'s-Gold' in name:\n",
    "        name = 'brewers-gold'\n",
    "        hop_list.append(name)\n",
    "    elif name == 'Lubelska':\n",
    "        hop_list.append('lublin')\n",
    "    elif name == 'Styrian-Cardinal':\n",
    "        hop_list.append('cardinal')\n",
    "    elif name == 'XJA2/436':\n",
    "        hop_list.append('xja2-436')\n",
    "    elif 'blend' in name.lower() and 'TNT' not in name:\n",
    "        name = name.replace(' Blend', '')\n",
    "        name = name.replace('-Blend', '')\n",
    "        hop_list.append(name)\n",
    "    elif name == 'Sultana-Denali':\n",
    "        hop_list.append('denali')\n",
    "    elif name == 'Hallertau-US':\n",
    "        hop_list.append('hallertau')\n",
    "    elif name == 'XJA2/436':\n",
    "        hop_list.append('XJA2-436')\n",
    "    elif name == 'HBC360':\n",
    "        hop_list.append('hbc-360')\n",
    "    else:\n",
    "        if name[0] == '-':\n",
    "            name = name[1:]\n",
    "        hop_list.append(name)\n",
    "\n",
    "hop_list[133] = 'XJA2-436'\n",
    "hop_list[219] = 'HBC-360'\n",
    "    \n",
    "print(hop_list)"
   ]
  },
  {
   "cell_type": "code",
   "execution_count": 43,
   "id": "0ed022c3-d112-4cad-961a-5be29ae3b79d",
   "metadata": {},
   "outputs": [
    {
     "name": "stdout",
     "output_type": "stream",
     "text": [
      "304\n"
     ]
    }
   ],
   "source": [
    "print(len(hop_list))"
   ]
  },
  {
   "cell_type": "code",
   "execution_count": 39,
   "id": "747dcbed-721b-47ef-b81f-ad23be17145c",
   "metadata": {},
   "outputs": [],
   "source": [
    "\n",
    "for hop in hop_list:\n",
    "    endpoint_url = 'https://beermaverick.com/hop/' + hop\n",
    "    response = requests.get(endpoint_url)\n",
    "    \n",
    "    if response.status_code != 200:\n",
    "        print(endpoint_url)\n",
    "    \n",
    "    sleep(3)\n",
    "    \n",
    "\n",
    "    "
   ]
  },
  {
   "cell_type": "markdown",
   "id": "0f6ad6be-e6e4-4c19-811d-29da821f5e22",
   "metadata": {},
   "source": [
    "### Endpoint Scraping (each Hop)\n",
    "**Goal**: Collect and store data for each hop"
   ]
  },
  {
   "cell_type": "code",
   "execution_count": 44,
   "id": "0931a2b7-82e0-483f-8eb3-690dfa35b5d5",
   "metadata": {},
   "outputs": [
    {
     "name": "stdout",
     "output_type": "stream",
     "text": [
      "Alpha Acid % (AA)Alpha acids are the main source of bitterness in beer. Longer boil times will result in isomerization of more alpha acids leading to increased bitterness.  Learn more » 3-9.7%6.4% avg\n",
      "Beta Acid %Beta acids are a component of hop resins responsible for contributing volatile aromatic and flavor properties. Beta acids contribute no bitterness. 3.6-5%4.3% avg\n",
      "Alpha-Beta RatioThe ratio of alpha to beta acids dictates the degree to which bitterness fades during aging. 1:1 ratios are common in aroma varieties. 1:1 - 3:12:1 avg\n",
      "Co-Humulone as % of AlphaLow cohumulone hops may impart a smoother bitterness when added to the boil as opposed to higher ones that add a sharper bitterness to the final beer. Learn more » 25-35%30% avg\n",
      "Total Oils (mL/100g)These highly volatile, not very soluble oils are easily boiled off, but add flavor and aroma to the finished beer when added very late in the boil or during fermentation. Learn more » 0.8-1.5 mL1.2mL avg\n"
     ]
    },
    {
     "ename": "AttributeError",
     "evalue": "'NoneType' object has no attribute 'text'",
     "output_type": "error",
     "traceback": [
      "\u001b[0;31m---------------------------------------------------------------------------\u001b[0m",
      "\u001b[0;31mAttributeError\u001b[0m                            Traceback (most recent call last)",
      "\u001b[0;32m/tmp/ipykernel_1316/2917140779.py\u001b[0m in \u001b[0;36m<module>\u001b[0;34m\u001b[0m\n\u001b[1;32m     29\u001b[0m             \u001b[0mth\u001b[0m \u001b[0;34m=\u001b[0m \u001b[0mtr\u001b[0m\u001b[0;34m.\u001b[0m\u001b[0mfind\u001b[0m\u001b[0;34m(\u001b[0m\u001b[0;34m'th'\u001b[0m\u001b[0;34m)\u001b[0m\u001b[0;34m\u001b[0m\u001b[0;34m\u001b[0m\u001b[0m\n\u001b[1;32m     30\u001b[0m             \u001b[0mtd\u001b[0m \u001b[0;34m=\u001b[0m \u001b[0mtr\u001b[0m\u001b[0;34m.\u001b[0m\u001b[0mfind\u001b[0m\u001b[0;34m(\u001b[0m\u001b[0;34m'td'\u001b[0m\u001b[0;34m)\u001b[0m\u001b[0;34m\u001b[0m\u001b[0;34m\u001b[0m\u001b[0m\n\u001b[0;32m---> 31\u001b[0;31m             \u001b[0mprint\u001b[0m\u001b[0;34m(\u001b[0m\u001b[0mth\u001b[0m\u001b[0;34m.\u001b[0m\u001b[0mtext\u001b[0m\u001b[0;34m,\u001b[0m \u001b[0mtd\u001b[0m\u001b[0;34m.\u001b[0m\u001b[0mtext\u001b[0m\u001b[0;34m)\u001b[0m\u001b[0;34m\u001b[0m\u001b[0;34m\u001b[0m\u001b[0m\n\u001b[0m\u001b[1;32m     32\u001b[0m \u001b[0;31m#             print(tr)\u001b[0m\u001b[0;34m\u001b[0m\u001b[0;34m\u001b[0m\u001b[0;34m\u001b[0m\u001b[0m\n\u001b[1;32m     33\u001b[0m \u001b[0;34m\u001b[0m\u001b[0m\n",
      "\u001b[0;31mAttributeError\u001b[0m: 'NoneType' object has no attribute 'text'"
     ]
    }
   ],
   "source": [
    "response = requests.get(\"https://beermaverick.com/hop/ultra/\")\n",
    "d = {'Alpha Acid': ''}\n",
    "if response.status_code == 200:\n",
    "        \n",
    "        # Instantiate BS4 for parsing the HTML data (can also do via lxml)\n",
    "        soup = bsoup(response.text, 'html')\n",
    "        \n",
    "        # Section that umbrellas as info/subsections\n",
    "        hop_section = soup.find('div', {\"class\":\"gridlove-site-content container gridlove-sidebar-right\"})\n",
    "        hop_section = soup.find('div', {\"class\":\"entry-content\"})\n",
    "        \n",
    "        # Sub-sections\n",
    "        \n",
    "        # Grabbing name info (can be done via url ending too)\n",
    "        hop_name = soup.find('h1', {\"class\":\"entry-title\"}).text\n",
    "        \n",
    "        # Purpose and Country info\n",
    "        tab1 = soup.find('figure', {\"class\":\"wp-block-table\"}).text\n",
    "        tab1 = tab1.splitlines()\n",
    "        hop_purpose = tab1[1].split(':')[1]\n",
    "        hop_country = tab1[2].split(':')[1]\n",
    "        \n",
    "        # Flavor or Aroma tags\n",
    "        # tab2 = hop_section.find_all('a', {\"class\":\"text-muted\"})\n",
    "        \n",
    "        # Brewing values\n",
    "        brew_section = hop_section.find('table', {\"class\":\"brewvalues\"})\n",
    "        for tr in brew_section.find_all('tr'):\n",
    "            th = tr.find('th')\n",
    "            td = tr.find('td')\n",
    "            print(th.text, td.text)\n",
    "#             print(tr)\n",
    "            \n",
    "        for tr in brew_section.find_all('tr', {\"class\":\"brewoils\"}):\n",
    "            th = tr.find('th')\n",
    "            td = tr.find('td')\n",
    "#             print(th.text, td.text)\n",
    "        \n",
    "        \n",
    "#         print(hop_aa)"
   ]
  },
  {
   "cell_type": "code",
   "execution_count": 28,
   "id": "1a88008b-7e9b-42ff-b20e-c9e23380f3b2",
   "metadata": {},
   "outputs": [
    {
     "name": "stdout",
     "output_type": "stream",
     "text": [
      "                     0                       1\n",
      "0             Purpose:                    Dual\n",
      "1             Country:         Australia (AUS)\n",
      "2  International Code:                     AST\n",
      "3           Ownership:  ™ Ellerslie Hop Estate\n",
      "                                                   0                     1\n",
      "0  Alpha Acid % (AA)Alpha acids are the main sour...         7-10%8.5% avg\n",
      "1  Beta Acid %Beta acids are a component of hop r...            4-6%5% avg\n",
      "2  Alpha-Beta RatioThe ratio of alpha to beta aci...      1:1 - 3:12:1 avg\n",
      "3  Co-Humulone as % of AlphaLow cohumulone hops m...         26-28%27% avg\n",
      "4  Total Oils (mL/100g)These highly volatile, not...         1-3 mL2mL avg\n",
      "5                               Total Oil Breakdown:  Total Oil Breakdown:\n",
      "6       › MyrceneFlavors: resinous, citrus, fruity (                   NaN\n"
     ]
    }
   ],
   "source": [
    "hops_list = ['Astra', 'Eclipse', 'Ella']  # test list\n",
    "\n",
    "for hop in hops_list:\n",
    "    endpoint_url = 'https://beermaverick.com/hop/' + hop\n",
    "    response = requests.get(endpoint_url)\n",
    "    \n",
    "    if response.status_code == 200:  \n",
    "        \n",
    "        # Read in HTML tables into pandas dataframes \n",
    "        basic_df, brewing_df = pd.read_html(endpoint_url, encoding='ascii')\n",
    "        \n",
    "        d = {\"Alpha Acid % (AA)\":\"Alpha Acid (AA)\", \"Beta Acid %\":\"Beta Acid (BA)\"}\n",
    "        l = [e.replace(key, val) for e in l for key, val in d.items() if key in e]\n",
    "        print(l)\n",
    "        \n",
    "        print(basic_df)\n",
    "        print(brewing_df)\n",
    "    \n",
    "    break\n",
    "        \n",
    "        "
   ]
  },
  {
   "cell_type": "code",
   "execution_count": null,
   "id": "e14e5f49-8e45-4506-a340-e15eee9a75e9",
   "metadata": {},
   "outputs": [],
   "source": []
  },
  {
   "cell_type": "code",
   "execution_count": null,
   "id": "0254c646-3ada-49e2-b46c-3cebecab809b",
   "metadata": {},
   "outputs": [],
   "source": []
  },
  {
   "cell_type": "code",
   "execution_count": null,
   "id": "10b6b13e-8226-43ce-b0df-97c164369d8a",
   "metadata": {},
   "outputs": [],
   "source": []
  },
  {
   "cell_type": "code",
   "execution_count": null,
   "id": "08e29d13-662b-40bf-8bc4-0e343132c317",
   "metadata": {},
   "outputs": [],
   "source": []
  },
  {
   "cell_type": "code",
   "execution_count": 44,
   "id": "d15def33-ccb5-45e6-813b-b6c70bbf48c5",
   "metadata": {},
   "outputs": [],
   "source": [
    "# Import necessary packages\n",
    "import numpy as np\n",
    "import os\n",
    "import pandas as pd\n",
    "import requests\n",
    "import unicodedata2\n",
    "import urllib.robotparser\n",
    "from bs4 import BeautifulSoup as bsoup\n",
    "from time import sleep"
   ]
  },
  {
   "cell_type": "code",
   "execution_count": 45,
   "id": "76a89645-6d62-4e77-bcf0-a08d5d69de40",
   "metadata": {},
   "outputs": [
    {
     "data": {
      "text/plain": [
       "True"
      ]
     },
     "execution_count": 45,
     "metadata": {},
     "output_type": "execute_result"
    }
   ],
   "source": [
    "# Use RobotParser to check validity of scraping on endpoint of interest (checking for base page)\n",
    "base_url = 'https://beermaverick.com/hops/'\n",
    "rp = urllib.robotparser.RobotFileParser()\n",
    "rp.set_url('https://beermaverick.com/robots.txt')\n",
    "rp.read()\n",
    "rp.can_fetch('*', base_url)"
   ]
  },
  {
   "cell_type": "code",
   "execution_count": 46,
   "id": "97b64702-866e-48da-bdae-251447342c52",
   "metadata": {},
   "outputs": [
    {
     "name": "stdout",
     "output_type": "stream",
     "text": [
      "Connection successfully established. \n",
      "Status Code:  200\n"
     ]
    }
   ],
   "source": [
    "# Establish connection to base-URL & setup a base exception handling\n",
    "try:\n",
    "    response = requests.get(base_url)\n",
    "    print('Connection successfully established. \\nStatus Code: ', response.status_code)\n",
    "except requests.exceptions.RequestException as err:  \n",
    "    print('Unable to establish connection at this time: \\n', err)"
   ]
  },
  {
   "cell_type": "code",
   "execution_count": 47,
   "id": "39afea8c-2234-4f42-8845-426f1ca4e030",
   "metadata": {},
   "outputs": [],
   "source": [
    "# Instantiate BS4 for parsing the HTML data \n",
    "soup = bsoup(response.text, 'html')\n",
    "\n",
    "# Find container tag & specific attribute for hops names\n",
    "hops_container = soup.find_all('div', {'class':'box-inner-p-bigger box-single'})[1]  # locate specific container\n",
    "hops_container = hops_container.find_all('p')  # gather each section\n",
    "\n",
    "# Loop through each subsection of container & store obtained hop name/endpoint\n",
    "hop_names = dict()\n",
    "for section in hops_container[:-1]:\n",
    "    all_hops = section.find_all('a')\n",
    "    for each_hop in all_hops:\n",
    "        hop_names[each_hop.text] = each_hop['href']\n"
   ]
  },
  {
   "cell_type": "code",
   "execution_count": 49,
   "id": "80960af6-b745-4914-8ede-e96dfe47f9ce",
   "metadata": {},
   "outputs": [
    {
     "name": "stdout",
     "output_type": "stream",
     "text": [
      "True\n",
      "Status Code: 429. Unsuccessful request to: https://beermaverick.com/hop/huller-bitterer/\n",
      "Status Code: 429. Unsuccessful request to: https://beermaverick.com/hop/mandarina-bavaria/\n",
      "Status Code: 429. Unsuccessful request to: https://beermaverick.com/hop/merkur/\n",
      "Status Code: 429. Unsuccessful request to: https://beermaverick.com/hop/monroe/\n",
      "Status Code: 429. Unsuccessful request to: https://beermaverick.com/hop/northern-brewer-gr/\n",
      "Status Code: 429. Unsuccessful request to: https://beermaverick.com/hop/orion/\n",
      "Status Code: 429. Unsuccessful request to: https://beermaverick.com/hop/perle-gr/\n",
      "Status Code: 429. Unsuccessful request to: https://beermaverick.com/hop/wurttemberg/\n",
      "Status Code: 429. Unsuccessful request to: https://beermaverick.com/hop/nelson-sauvin/\n",
      "Status Code: 429. Unsuccessful request to: https://beermaverick.com/hop/southern-cross/\n",
      "Status Code: 429. Unsuccessful request to: https://beermaverick.com/hop/styrian-eagle/\n",
      "Status Code: 429. Unsuccessful request to: https://beermaverick.com/hop/centennial/\n",
      "Status Code: 429. Unsuccessful request to: https://beermaverick.com/hop/chelan/\n",
      "Status Code: 429. Unsuccessful request to: https://beermaverick.com/hop/chinook/\n"
     ]
    },
    {
     "ename": "KeyboardInterrupt",
     "evalue": "",
     "output_type": "error",
     "traceback": [
      "\u001b[0;31m---------------------------------------------------------------------------\u001b[0m",
      "\u001b[0;31mKeyboardInterrupt\u001b[0m                         Traceback (most recent call last)",
      "\u001b[0;32m/tmp/ipykernel_307/2924091989.py\u001b[0m in \u001b[0;36m<module>\u001b[0;34m\u001b[0m\n\u001b[1;32m      6\u001b[0m     \u001b[0mendpoint_url\u001b[0m \u001b[0;34m=\u001b[0m \u001b[0;34m'https://beermaverick.com'\u001b[0m \u001b[0;34m+\u001b[0m \u001b[0mhop_names\u001b[0m\u001b[0;34m[\u001b[0m\u001b[0mhop\u001b[0m\u001b[0;34m]\u001b[0m\u001b[0;34m\u001b[0m\u001b[0;34m\u001b[0m\u001b[0m\n\u001b[1;32m      7\u001b[0m     \u001b[0;32mtry\u001b[0m\u001b[0;34m:\u001b[0m\u001b[0;34m\u001b[0m\u001b[0;34m\u001b[0m\u001b[0m\n\u001b[0;32m----> 8\u001b[0;31m         \u001b[0mresponse\u001b[0m \u001b[0;34m=\u001b[0m \u001b[0mrequests\u001b[0m\u001b[0;34m.\u001b[0m\u001b[0mget\u001b[0m\u001b[0;34m(\u001b[0m\u001b[0mendpoint_url\u001b[0m\u001b[0;34m)\u001b[0m\u001b[0;34m\u001b[0m\u001b[0;34m\u001b[0m\u001b[0m\n\u001b[0m\u001b[1;32m      9\u001b[0m         \u001b[0;32mif\u001b[0m \u001b[0mresponse\u001b[0m\u001b[0;34m.\u001b[0m\u001b[0mstatus_code\u001b[0m \u001b[0;34m!=\u001b[0m \u001b[0;36m200\u001b[0m\u001b[0;34m:\u001b[0m\u001b[0;34m\u001b[0m\u001b[0;34m\u001b[0m\u001b[0m\n\u001b[1;32m     10\u001b[0m             \u001b[0mprint\u001b[0m\u001b[0;34m(\u001b[0m\u001b[0;34mf'Status Code: {response.status_code}. Unsuccessful request to: {endpoint_url}'\u001b[0m\u001b[0;34m)\u001b[0m\u001b[0;34m\u001b[0m\u001b[0;34m\u001b[0m\u001b[0m\n",
      "\u001b[0;32m/usr/lib/python3/dist-packages/requests/api.py\u001b[0m in \u001b[0;36mget\u001b[0;34m(url, params, **kwargs)\u001b[0m\n\u001b[1;32m     73\u001b[0m \u001b[0;34m\u001b[0m\u001b[0m\n\u001b[1;32m     74\u001b[0m     \u001b[0mkwargs\u001b[0m\u001b[0;34m.\u001b[0m\u001b[0msetdefault\u001b[0m\u001b[0;34m(\u001b[0m\u001b[0;34m'allow_redirects'\u001b[0m\u001b[0;34m,\u001b[0m \u001b[0;32mTrue\u001b[0m\u001b[0;34m)\u001b[0m\u001b[0;34m\u001b[0m\u001b[0;34m\u001b[0m\u001b[0m\n\u001b[0;32m---> 75\u001b[0;31m     \u001b[0;32mreturn\u001b[0m \u001b[0mrequest\u001b[0m\u001b[0;34m(\u001b[0m\u001b[0;34m'get'\u001b[0m\u001b[0;34m,\u001b[0m \u001b[0murl\u001b[0m\u001b[0;34m,\u001b[0m \u001b[0mparams\u001b[0m\u001b[0;34m=\u001b[0m\u001b[0mparams\u001b[0m\u001b[0;34m,\u001b[0m \u001b[0;34m**\u001b[0m\u001b[0mkwargs\u001b[0m\u001b[0;34m)\u001b[0m\u001b[0;34m\u001b[0m\u001b[0;34m\u001b[0m\u001b[0m\n\u001b[0m\u001b[1;32m     76\u001b[0m \u001b[0;34m\u001b[0m\u001b[0m\n\u001b[1;32m     77\u001b[0m \u001b[0;34m\u001b[0m\u001b[0m\n",
      "\u001b[0;32m/usr/lib/python3/dist-packages/requests/api.py\u001b[0m in \u001b[0;36mrequest\u001b[0;34m(method, url, **kwargs)\u001b[0m\n\u001b[1;32m     58\u001b[0m     \u001b[0;31m# cases, and look like a memory leak in others.\u001b[0m\u001b[0;34m\u001b[0m\u001b[0;34m\u001b[0m\u001b[0;34m\u001b[0m\u001b[0m\n\u001b[1;32m     59\u001b[0m     \u001b[0;32mwith\u001b[0m \u001b[0msessions\u001b[0m\u001b[0;34m.\u001b[0m\u001b[0mSession\u001b[0m\u001b[0;34m(\u001b[0m\u001b[0;34m)\u001b[0m \u001b[0;32mas\u001b[0m \u001b[0msession\u001b[0m\u001b[0;34m:\u001b[0m\u001b[0;34m\u001b[0m\u001b[0;34m\u001b[0m\u001b[0m\n\u001b[0;32m---> 60\u001b[0;31m         \u001b[0;32mreturn\u001b[0m \u001b[0msession\u001b[0m\u001b[0;34m.\u001b[0m\u001b[0mrequest\u001b[0m\u001b[0;34m(\u001b[0m\u001b[0mmethod\u001b[0m\u001b[0;34m=\u001b[0m\u001b[0mmethod\u001b[0m\u001b[0;34m,\u001b[0m \u001b[0murl\u001b[0m\u001b[0;34m=\u001b[0m\u001b[0murl\u001b[0m\u001b[0;34m,\u001b[0m \u001b[0;34m**\u001b[0m\u001b[0mkwargs\u001b[0m\u001b[0;34m)\u001b[0m\u001b[0;34m\u001b[0m\u001b[0;34m\u001b[0m\u001b[0m\n\u001b[0m\u001b[1;32m     61\u001b[0m \u001b[0;34m\u001b[0m\u001b[0m\n\u001b[1;32m     62\u001b[0m \u001b[0;34m\u001b[0m\u001b[0m\n",
      "\u001b[0;32m/usr/lib/python3/dist-packages/requests/sessions.py\u001b[0m in \u001b[0;36mrequest\u001b[0;34m(self, method, url, params, data, headers, cookies, files, auth, timeout, allow_redirects, proxies, hooks, stream, verify, cert, json)\u001b[0m\n\u001b[1;32m    531\u001b[0m         }\n\u001b[1;32m    532\u001b[0m         \u001b[0msend_kwargs\u001b[0m\u001b[0;34m.\u001b[0m\u001b[0mupdate\u001b[0m\u001b[0;34m(\u001b[0m\u001b[0msettings\u001b[0m\u001b[0;34m)\u001b[0m\u001b[0;34m\u001b[0m\u001b[0;34m\u001b[0m\u001b[0m\n\u001b[0;32m--> 533\u001b[0;31m         \u001b[0mresp\u001b[0m \u001b[0;34m=\u001b[0m \u001b[0mself\u001b[0m\u001b[0;34m.\u001b[0m\u001b[0msend\u001b[0m\u001b[0;34m(\u001b[0m\u001b[0mprep\u001b[0m\u001b[0;34m,\u001b[0m \u001b[0;34m**\u001b[0m\u001b[0msend_kwargs\u001b[0m\u001b[0;34m)\u001b[0m\u001b[0;34m\u001b[0m\u001b[0;34m\u001b[0m\u001b[0m\n\u001b[0m\u001b[1;32m    534\u001b[0m \u001b[0;34m\u001b[0m\u001b[0m\n\u001b[1;32m    535\u001b[0m         \u001b[0;32mreturn\u001b[0m \u001b[0mresp\u001b[0m\u001b[0;34m\u001b[0m\u001b[0;34m\u001b[0m\u001b[0m\n",
      "\u001b[0;32m/usr/lib/python3/dist-packages/requests/sessions.py\u001b[0m in \u001b[0;36msend\u001b[0;34m(self, request, **kwargs)\u001b[0m\n\u001b[1;32m    644\u001b[0m \u001b[0;34m\u001b[0m\u001b[0m\n\u001b[1;32m    645\u001b[0m         \u001b[0;31m# Send the request\u001b[0m\u001b[0;34m\u001b[0m\u001b[0;34m\u001b[0m\u001b[0;34m\u001b[0m\u001b[0m\n\u001b[0;32m--> 646\u001b[0;31m         \u001b[0mr\u001b[0m \u001b[0;34m=\u001b[0m \u001b[0madapter\u001b[0m\u001b[0;34m.\u001b[0m\u001b[0msend\u001b[0m\u001b[0;34m(\u001b[0m\u001b[0mrequest\u001b[0m\u001b[0;34m,\u001b[0m \u001b[0;34m**\u001b[0m\u001b[0mkwargs\u001b[0m\u001b[0;34m)\u001b[0m\u001b[0;34m\u001b[0m\u001b[0;34m\u001b[0m\u001b[0m\n\u001b[0m\u001b[1;32m    647\u001b[0m \u001b[0;34m\u001b[0m\u001b[0m\n\u001b[1;32m    648\u001b[0m         \u001b[0;31m# Total elapsed time of the request (approximately)\u001b[0m\u001b[0;34m\u001b[0m\u001b[0;34m\u001b[0m\u001b[0;34m\u001b[0m\u001b[0m\n",
      "\u001b[0;32m/usr/lib/python3/dist-packages/requests/adapters.py\u001b[0m in \u001b[0;36msend\u001b[0;34m(self, request, stream, timeout, verify, cert, proxies)\u001b[0m\n\u001b[1;32m    437\u001b[0m         \u001b[0;32mtry\u001b[0m\u001b[0;34m:\u001b[0m\u001b[0;34m\u001b[0m\u001b[0;34m\u001b[0m\u001b[0m\n\u001b[1;32m    438\u001b[0m             \u001b[0;32mif\u001b[0m \u001b[0;32mnot\u001b[0m \u001b[0mchunked\u001b[0m\u001b[0;34m:\u001b[0m\u001b[0;34m\u001b[0m\u001b[0;34m\u001b[0m\u001b[0m\n\u001b[0;32m--> 439\u001b[0;31m                 resp = conn.urlopen(\n\u001b[0m\u001b[1;32m    440\u001b[0m                     \u001b[0mmethod\u001b[0m\u001b[0;34m=\u001b[0m\u001b[0mrequest\u001b[0m\u001b[0;34m.\u001b[0m\u001b[0mmethod\u001b[0m\u001b[0;34m,\u001b[0m\u001b[0;34m\u001b[0m\u001b[0;34m\u001b[0m\u001b[0m\n\u001b[1;32m    441\u001b[0m                     \u001b[0murl\u001b[0m\u001b[0;34m=\u001b[0m\u001b[0murl\u001b[0m\u001b[0;34m,\u001b[0m\u001b[0;34m\u001b[0m\u001b[0;34m\u001b[0m\u001b[0m\n",
      "\u001b[0;32m/usr/lib/python3/dist-packages/urllib3/connectionpool.py\u001b[0m in \u001b[0;36murlopen\u001b[0;34m(self, method, url, body, headers, retries, redirect, assert_same_host, timeout, pool_timeout, release_conn, chunked, body_pos, **response_kw)\u001b[0m\n\u001b[1;32m    663\u001b[0m \u001b[0;34m\u001b[0m\u001b[0m\n\u001b[1;32m    664\u001b[0m             \u001b[0;31m# Make the request on the httplib connection object.\u001b[0m\u001b[0;34m\u001b[0m\u001b[0;34m\u001b[0m\u001b[0;34m\u001b[0m\u001b[0m\n\u001b[0;32m--> 665\u001b[0;31m             httplib_response = self._make_request(\n\u001b[0m\u001b[1;32m    666\u001b[0m                 \u001b[0mconn\u001b[0m\u001b[0;34m,\u001b[0m\u001b[0;34m\u001b[0m\u001b[0;34m\u001b[0m\u001b[0m\n\u001b[1;32m    667\u001b[0m                 \u001b[0mmethod\u001b[0m\u001b[0;34m,\u001b[0m\u001b[0;34m\u001b[0m\u001b[0;34m\u001b[0m\u001b[0m\n",
      "\u001b[0;32m/usr/lib/python3/dist-packages/urllib3/connectionpool.py\u001b[0m in \u001b[0;36m_make_request\u001b[0;34m(self, conn, method, url, timeout, chunked, **httplib_request_kw)\u001b[0m\n\u001b[1;32m    374\u001b[0m         \u001b[0;31m# Trigger any extra validation we need to do.\u001b[0m\u001b[0;34m\u001b[0m\u001b[0;34m\u001b[0m\u001b[0;34m\u001b[0m\u001b[0m\n\u001b[1;32m    375\u001b[0m         \u001b[0;32mtry\u001b[0m\u001b[0;34m:\u001b[0m\u001b[0;34m\u001b[0m\u001b[0;34m\u001b[0m\u001b[0m\n\u001b[0;32m--> 376\u001b[0;31m             \u001b[0mself\u001b[0m\u001b[0;34m.\u001b[0m\u001b[0m_validate_conn\u001b[0m\u001b[0;34m(\u001b[0m\u001b[0mconn\u001b[0m\u001b[0;34m)\u001b[0m\u001b[0;34m\u001b[0m\u001b[0;34m\u001b[0m\u001b[0m\n\u001b[0m\u001b[1;32m    377\u001b[0m         \u001b[0;32mexcept\u001b[0m \u001b[0;34m(\u001b[0m\u001b[0mSocketTimeout\u001b[0m\u001b[0;34m,\u001b[0m \u001b[0mBaseSSLError\u001b[0m\u001b[0;34m)\u001b[0m \u001b[0;32mas\u001b[0m \u001b[0me\u001b[0m\u001b[0;34m:\u001b[0m\u001b[0;34m\u001b[0m\u001b[0;34m\u001b[0m\u001b[0m\n\u001b[1;32m    378\u001b[0m             \u001b[0;31m# Py2 raises this as a BaseSSLError, Py3 raises it as socket timeout.\u001b[0m\u001b[0;34m\u001b[0m\u001b[0;34m\u001b[0m\u001b[0;34m\u001b[0m\u001b[0m\n",
      "\u001b[0;32m/usr/lib/python3/dist-packages/urllib3/connectionpool.py\u001b[0m in \u001b[0;36m_validate_conn\u001b[0;34m(self, conn)\u001b[0m\n\u001b[1;32m    994\u001b[0m         \u001b[0;31m# Force connect early to allow us to validate the connection.\u001b[0m\u001b[0;34m\u001b[0m\u001b[0;34m\u001b[0m\u001b[0;34m\u001b[0m\u001b[0m\n\u001b[1;32m    995\u001b[0m         \u001b[0;32mif\u001b[0m \u001b[0;32mnot\u001b[0m \u001b[0mgetattr\u001b[0m\u001b[0;34m(\u001b[0m\u001b[0mconn\u001b[0m\u001b[0;34m,\u001b[0m \u001b[0;34m\"sock\"\u001b[0m\u001b[0;34m,\u001b[0m \u001b[0;32mNone\u001b[0m\u001b[0;34m)\u001b[0m\u001b[0;34m:\u001b[0m  \u001b[0;31m# AppEngine might not have  `.sock`\u001b[0m\u001b[0;34m\u001b[0m\u001b[0;34m\u001b[0m\u001b[0m\n\u001b[0;32m--> 996\u001b[0;31m             \u001b[0mconn\u001b[0m\u001b[0;34m.\u001b[0m\u001b[0mconnect\u001b[0m\u001b[0;34m(\u001b[0m\u001b[0;34m)\u001b[0m\u001b[0;34m\u001b[0m\u001b[0;34m\u001b[0m\u001b[0m\n\u001b[0m\u001b[1;32m    997\u001b[0m \u001b[0;34m\u001b[0m\u001b[0m\n\u001b[1;32m    998\u001b[0m         \u001b[0;32mif\u001b[0m \u001b[0;32mnot\u001b[0m \u001b[0mconn\u001b[0m\u001b[0;34m.\u001b[0m\u001b[0mis_verified\u001b[0m\u001b[0;34m:\u001b[0m\u001b[0;34m\u001b[0m\u001b[0;34m\u001b[0m\u001b[0m\n",
      "\u001b[0;32m/usr/lib/python3/dist-packages/urllib3/connection.py\u001b[0m in \u001b[0;36mconnect\u001b[0;34m(self)\u001b[0m\n\u001b[1;32m    312\u001b[0m     \u001b[0;32mdef\u001b[0m \u001b[0mconnect\u001b[0m\u001b[0;34m(\u001b[0m\u001b[0mself\u001b[0m\u001b[0;34m)\u001b[0m\u001b[0;34m:\u001b[0m\u001b[0;34m\u001b[0m\u001b[0;34m\u001b[0m\u001b[0m\n\u001b[1;32m    313\u001b[0m         \u001b[0;31m# Add certificate verification\u001b[0m\u001b[0;34m\u001b[0m\u001b[0;34m\u001b[0m\u001b[0;34m\u001b[0m\u001b[0m\n\u001b[0;32m--> 314\u001b[0;31m         \u001b[0mconn\u001b[0m \u001b[0;34m=\u001b[0m \u001b[0mself\u001b[0m\u001b[0;34m.\u001b[0m\u001b[0m_new_conn\u001b[0m\u001b[0;34m(\u001b[0m\u001b[0;34m)\u001b[0m\u001b[0;34m\u001b[0m\u001b[0;34m\u001b[0m\u001b[0m\n\u001b[0m\u001b[1;32m    315\u001b[0m         \u001b[0mhostname\u001b[0m \u001b[0;34m=\u001b[0m \u001b[0mself\u001b[0m\u001b[0;34m.\u001b[0m\u001b[0mhost\u001b[0m\u001b[0;34m\u001b[0m\u001b[0;34m\u001b[0m\u001b[0m\n\u001b[1;32m    316\u001b[0m \u001b[0;34m\u001b[0m\u001b[0m\n",
      "\u001b[0;32m/usr/lib/python3/dist-packages/urllib3/connection.py\u001b[0m in \u001b[0;36m_new_conn\u001b[0;34m(self)\u001b[0m\n\u001b[1;32m    157\u001b[0m \u001b[0;34m\u001b[0m\u001b[0m\n\u001b[1;32m    158\u001b[0m         \u001b[0;32mtry\u001b[0m\u001b[0;34m:\u001b[0m\u001b[0;34m\u001b[0m\u001b[0;34m\u001b[0m\u001b[0m\n\u001b[0;32m--> 159\u001b[0;31m             conn = connection.create_connection(\n\u001b[0m\u001b[1;32m    160\u001b[0m                 \u001b[0;34m(\u001b[0m\u001b[0mself\u001b[0m\u001b[0;34m.\u001b[0m\u001b[0m_dns_host\u001b[0m\u001b[0;34m,\u001b[0m \u001b[0mself\u001b[0m\u001b[0;34m.\u001b[0m\u001b[0mport\u001b[0m\u001b[0;34m)\u001b[0m\u001b[0;34m,\u001b[0m \u001b[0mself\u001b[0m\u001b[0;34m.\u001b[0m\u001b[0mtimeout\u001b[0m\u001b[0;34m,\u001b[0m \u001b[0;34m**\u001b[0m\u001b[0mextra_kw\u001b[0m\u001b[0;34m\u001b[0m\u001b[0;34m\u001b[0m\u001b[0m\n\u001b[1;32m    161\u001b[0m             )\n",
      "\u001b[0;32m/usr/lib/python3/dist-packages/urllib3/util/connection.py\u001b[0m in \u001b[0;36mcreate_connection\u001b[0;34m(address, timeout, source_address, socket_options)\u001b[0m\n\u001b[1;32m     72\u001b[0m             \u001b[0;32mif\u001b[0m \u001b[0msource_address\u001b[0m\u001b[0;34m:\u001b[0m\u001b[0;34m\u001b[0m\u001b[0;34m\u001b[0m\u001b[0m\n\u001b[1;32m     73\u001b[0m                 \u001b[0msock\u001b[0m\u001b[0;34m.\u001b[0m\u001b[0mbind\u001b[0m\u001b[0;34m(\u001b[0m\u001b[0msource_address\u001b[0m\u001b[0;34m)\u001b[0m\u001b[0;34m\u001b[0m\u001b[0;34m\u001b[0m\u001b[0m\n\u001b[0;32m---> 74\u001b[0;31m             \u001b[0msock\u001b[0m\u001b[0;34m.\u001b[0m\u001b[0mconnect\u001b[0m\u001b[0;34m(\u001b[0m\u001b[0msa\u001b[0m\u001b[0;34m)\u001b[0m\u001b[0;34m\u001b[0m\u001b[0;34m\u001b[0m\u001b[0m\n\u001b[0m\u001b[1;32m     75\u001b[0m             \u001b[0;32mreturn\u001b[0m \u001b[0msock\u001b[0m\u001b[0;34m\u001b[0m\u001b[0;34m\u001b[0m\u001b[0m\n\u001b[1;32m     76\u001b[0m \u001b[0;34m\u001b[0m\u001b[0m\n",
      "\u001b[0;31mKeyboardInterrupt\u001b[0m: "
     ]
    }
   ],
   "source": [
    "# Ensure all hop names were retrieved\n",
    "print(len(hop_names) == 304)\n",
    "\n",
    "# Validate endpoint URLs\n",
    "for hop in hop_names:\n",
    "    endpoint_url = 'https://beermaverick.com' + hop_names[hop]\n",
    "    try:\n",
    "        response = requests.get(endpoint_url)\n",
    "        if response.status_code != 200:\n",
    "            print(f'Status Code: {response.status_code}. Unsuccessful request to: {endpoint_url}')\n",
    "            sleep(5)\n",
    "    except requests.exceptions.RequestException as err:  \n",
    "        print('Unable to establish connection at this time: \\n', err)"
   ]
  },
  {
   "cell_type": "code",
   "execution_count": null,
   "id": "00fd5794-4326-48c4-9e55-2ee8af6686ce",
   "metadata": {},
   "outputs": [],
   "source": []
  },
  {
   "cell_type": "code",
   "execution_count": null,
   "id": "b961d698-027b-4dca-bb01-758027a1af2d",
   "metadata": {},
   "outputs": [],
   "source": []
  },
  {
   "cell_type": "code",
   "execution_count": null,
   "id": "aee30bf4-acec-452f-a32f-9b245380a834",
   "metadata": {},
   "outputs": [],
   "source": []
  },
  {
   "cell_type": "code",
   "execution_count": null,
   "id": "22ba467b-fae7-47c4-bb2b-908345a8ea6b",
   "metadata": {},
   "outputs": [],
   "source": [
    "# # Validate endpoint URLs\n",
    "# for hop in hop_names:\n",
    "#     endpoint_url = 'https://beermaverick.com' + hop_names[hop]\n",
    "#     try:\n",
    "#         response = requests.get(endpoint_url)\n",
    "#         if response.status_code != 200:\n",
    "#             print(f'Status Code: {response.status_code}. Unsuccessful request to: {endpoint_url}')\n",
    "#             sleep(3)\n",
    "#     except requests.exceptions.RequestException as err:  \n",
    "#         print('Unable to establish connection at this time: \\n', err)"
   ]
  },
  {
   "cell_type": "code",
   "execution_count": null,
   "id": "d76cb0bc-dad8-4685-97d4-c3ea91418084",
   "metadata": {},
   "outputs": [],
   "source": []
  },
  {
   "cell_type": "code",
   "execution_count": null,
   "id": "cb1591e7-12cb-47bd-9572-47581bf791d1",
   "metadata": {},
   "outputs": [],
   "source": []
  },
  {
   "cell_type": "code",
   "execution_count": null,
   "id": "32027007-b1c1-40ae-9a53-523634cbda00",
   "metadata": {},
   "outputs": [],
   "source": []
  },
  {
   "cell_type": "code",
   "execution_count": null,
   "id": "f11975a7-ba26-4454-bfc5-aed2a6e5b86b",
   "metadata": {},
   "outputs": [],
   "source": []
  },
  {
   "cell_type": "code",
   "execution_count": null,
   "id": "6e6eef91-1a6d-44c2-83c0-e2e2806bc6e1",
   "metadata": {},
   "outputs": [],
   "source": []
  },
  {
   "cell_type": "code",
   "execution_count": null,
   "id": "b04abd30-b3bf-49a4-a058-35a322942523",
   "metadata": {},
   "outputs": [],
   "source": []
  },
  {
   "cell_type": "code",
   "execution_count": null,
   "id": "58d0b475-3603-461c-ba96-604a6be4d1c9",
   "metadata": {},
   "outputs": [],
   "source": [
    "hops_df = pd.DataFrame(\n",
    "    columns=[\n",
    "        'Hop Name', \n",
    "        'Purpose',\n",
    "        'Country',\n",
    "        'International Code',\n",
    "        'Ownership',\n",
    "        'Origin Info',\n",
    "        'Flavor & Aroma Profile',\n",
    "        'Brewing',\n",
    "        '',\n",
    "        '',\n",
    "        '',\n",
    "        '',\n",
    "        '',\n",
    "        '',\n",
    "        '',\n",
    "        '',\n",
    "        '',\n",
    "        '',\n",
    "        '',\n",
    "        '',\n",
    "        '',\n",
    "    ]\n",
    ")"
   ]
  },
  {
   "cell_type": "code",
   "execution_count": null,
   "id": "10771d37-588f-4461-93da-4a3210ec00e1",
   "metadata": {},
   "outputs": [],
   "source": [
    "TAGS = 'tropical_fruit', 'sweet', 'peach', 'white_wine', 'melon', 'grassy', 'grapefruit', 'honey', '', '',  '', '',  '', '',  '', '',  '', '',  '', '',  '', '',  '', '',  "
   ]
  },
  {
   "cell_type": "code",
   "execution_count": null,
   "id": "9e65cd8f-33e9-4f81-896f-3adcbcefd39a",
   "metadata": {},
   "outputs": [],
   "source": [
    "Profile = 'Citrus', 'Tropical Fruit', 'Stone Fruit', 'Berry', 'Floral', 'Grassy', 'Herbal', 'Spice', 'Resin / Pine', '', '', '', '', '', '', '', '', '', '', '', '', '', '', "
   ]
  },
  {
   "cell_type": "code",
   "execution_count": null,
   "id": "4e862fe2-8607-4d2f-bf8c-1a8b3df778b9",
   "metadata": {},
   "outputs": [],
   "source": [
    "Brewing Values = 'Alpha Acid % (AA)', 'Beta Acid %', 'Alpha-Beta Ratio', 'Co-Humulone as % of Alpha', 'Total Oils (mL/100g)', '', '', '', "
   ]
  },
  {
   "cell_type": "code",
   "execution_count": null,
   "id": "4270ea4a-4e89-43c6-b00c-c409aebc600a",
   "metadata": {},
   "outputs": [],
   "source": [
    "Oils = 'Myrcene', 'Humulene', 'Caryophyllene', 'Farnesene', 'All Others', '', '', "
   ]
  },
  {
   "cell_type": "code",
   "execution_count": null,
   "id": "c654f51c-55c8-4e74-bda0-af3980e300d7",
   "metadata": {},
   "outputs": [],
   "source": []
  },
  {
   "cell_type": "code",
   "execution_count": null,
   "id": "ffe1e8b5-9372-4c7a-bbc1-ea5cd35f9dd9",
   "metadata": {},
   "outputs": [],
   "source": []
  },
  {
   "cell_type": "code",
   "execution_count": null,
   "id": "3a88960b-cdce-4827-9f89-095695e786e1",
   "metadata": {},
   "outputs": [],
   "source": []
  },
  {
   "cell_type": "code",
   "execution_count": null,
   "id": "b1d425a0-4097-4463-b636-2ae7aac7447a",
   "metadata": {},
   "outputs": [],
   "source": []
  },
  {
   "cell_type": "code",
   "execution_count": null,
   "id": "bff615c0-58bb-4765-b0a8-1bb99366c7db",
   "metadata": {},
   "outputs": [],
   "source": []
  }
 ],
 "metadata": {
  "kernelspec": {
   "display_name": "Python 3 (ipykernel)",
   "language": "python",
   "name": "python3"
  },
  "language_info": {
   "codemirror_mode": {
    "name": "ipython",
    "version": 3
   },
   "file_extension": ".py",
   "mimetype": "text/x-python",
   "name": "python",
   "nbconvert_exporter": "python",
   "pygments_lexer": "ipython3",
   "version": "3.8.5"
  }
 },
 "nbformat": 4,
 "nbformat_minor": 5
}
