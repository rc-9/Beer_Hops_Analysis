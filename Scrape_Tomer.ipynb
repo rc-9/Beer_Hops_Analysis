{
 "cells": [
  {
   "cell_type": "code",
   "execution_count": 8,
   "metadata": {},
   "outputs": [],
   "source": [
    "from bs4 import BeautifulSoup as bsoup\n",
    "import urllib.robotparser\n",
    "import requests\n",
    "from collections import defaultdict\n",
    "import pandas as pd\n",
    "from time import sleep"
   ]
  },
  {
   "cell_type": "code",
   "execution_count": 9,
   "metadata": {},
   "outputs": [],
   "source": [
    "# scrape hop names and links from main page\n",
    "response = requests.get(\"https://beermaverick.com/hops\")\n",
    "if response.status_code != 200:\n",
    "    print(\"response code not 200\")\n",
    "\n",
    "hops_page = response.text\n",
    "\n",
    "# print(hop_soup)"
   ]
  },
  {
   "cell_type": "code",
   "execution_count": 10,
   "metadata": {},
   "outputs": [],
   "source": [
    "hop_soup = bsoup(hops_page, 'html')"
   ]
  },
  {
   "cell_type": "code",
   "execution_count": 11,
   "metadata": {},
   "outputs": [],
   "source": [
    "hops = hop_soup.find_all('div', {'class': 'box-inner-p-bigger box-single'})\n",
    "hops = hops[1].find_all('a')\n",
    "hops.pop(-1)\n",
    "hop_list = []\n",
    "for i in hops:\n",
    "    hop = {}\n",
    "    hop_link = \"https://beermaverick.com\" + str(i).split('\"')[1]\n",
    "    hop_name = str(i).split('\"')[2].split(\">\")[1].split(\"<\")[0]\n",
    "    hop.update({'hop_name':hop_name, 'hop_link':hop_link})\n",
    "    hop_list.append(hop)\n",
    "# print(hop_list)"
   ]
  },
  {
   "cell_type": "code",
   "execution_count": 5,
   "metadata": {},
   "outputs": [],
   "source": [
    "# print(hop_list)"
   ]
  },
  {
   "cell_type": "code",
   "execution_count": 12,
   "metadata": {},
   "outputs": [
    {
     "ename": "NameError",
     "evalue": "name 'page' is not defined",
     "output_type": "error",
     "traceback": [
      "\u001b[1;31m---------------------------------------------------------------------------\u001b[0m",
      "\u001b[1;31mNameError\u001b[0m                                 Traceback (most recent call last)",
      "\u001b[1;32m<ipython-input-12-36611588313c>\u001b[0m in \u001b[0;36m<module>\u001b[1;34m\u001b[0m\n\u001b[1;32m----> 1\u001b[1;33m \u001b[0msoup\u001b[0m \u001b[1;33m=\u001b[0m \u001b[0mbsoup\u001b[0m\u001b[1;33m(\u001b[0m\u001b[0mpage\u001b[0m\u001b[1;33m,\u001b[0m \u001b[1;34m'lxml'\u001b[0m\u001b[1;33m)\u001b[0m\u001b[1;33m\u001b[0m\u001b[1;33m\u001b[0m\u001b[0m\n\u001b[0m\u001b[0;32m      2\u001b[0m \u001b[0mprint\u001b[0m\u001b[1;33m(\u001b[0m\u001b[0mtype\u001b[0m\u001b[1;33m(\u001b[0m\u001b[0msoup\u001b[0m\u001b[1;33m)\u001b[0m\u001b[1;33m)\u001b[0m\u001b[1;33m\u001b[0m\u001b[1;33m\u001b[0m\u001b[0m\n\u001b[0;32m      3\u001b[0m \u001b[1;31m# print(soup)\u001b[0m\u001b[1;33m\u001b[0m\u001b[1;33m\u001b[0m\u001b[1;33m\u001b[0m\u001b[0m\n",
      "\u001b[1;31mNameError\u001b[0m: name 'page' is not defined"
     ]
    }
   ],
   "source": [
    "# soup = bsoup(page, 'lxml')\n",
    "# print(type(soup))\n",
    "# # print(soup)"
   ]
  },
  {
   "cell_type": "code",
   "execution_count": 13,
   "metadata": {},
   "outputs": [
    {
     "name": "stdout",
     "output_type": "stream",
     "text": [
      "User-agent: *\n",
      "Disallow: /wp-admin/\n",
      "Allow: /wp-admin/admin-ajax.php\n"
     ]
    },
    {
     "name": "stderr",
     "output_type": "stream",
     "text": [
      "  % Total    % Received % Xferd  Average Speed   Time    Time     Time  Current\n",
      "                                 Dload  Upload   Total   Spent    Left  Speed\n",
      "\n",
      "  0     0    0     0    0     0      0      0 --:--:-- --:--:-- --:--:--     0\n",
      "  0     0    0     0    0     0      0      0 --:--:-- --:--:-- --:--:--     0\n",
      "100    67  100    67    0     0    221      0 --:--:-- --:--:-- --:--:--   221\n"
     ]
    }
   ],
   "source": [
    "!curl https://beermaverick.com/robots.txt"
   ]
  },
  {
   "cell_type": "code",
   "execution_count": 14,
   "metadata": {},
   "outputs": [
    {
     "data": {
      "text/plain": [
       "True"
      ]
     },
     "execution_count": 14,
     "metadata": {},
     "output_type": "execute_result"
    }
   ],
   "source": [
    "rp = urllib.robotparser.RobotFileParser()\n",
    "rp.set_url(\"https://beermaverick.com/hop/robots.txt\")\n",
    "rp.read()\n",
    "rp.can_fetch(\"*\", \":https://beermaverick.com/hop/mosaic/\")"
   ]
  },
  {
   "cell_type": "code",
   "execution_count": 18,
   "metadata": {},
   "outputs": [
    {
     "ename": "NameError",
     "evalue": "name 'bv_value' is not defined",
     "output_type": "error",
     "traceback": [
      "\u001b[1;31m---------------------------------------------------------------------------\u001b[0m",
      "\u001b[1;31mNameError\u001b[0m                                 Traceback (most recent call last)",
      "\u001b[1;32m<ipython-input-18-d26f71426d94>\u001b[0m in \u001b[0;36m<module>\u001b[1;34m\u001b[0m\n\u001b[0;32m     41\u001b[0m     \u001b[1;31m#     i.update({'tags':tags})\u001b[0m\u001b[1;33m\u001b[0m\u001b[1;33m\u001b[0m\u001b[1;33m\u001b[0m\u001b[0m\n\u001b[0;32m     42\u001b[0m     \u001b[0mbv_values\u001b[0m \u001b[1;33m=\u001b[0m \u001b[1;33m[\u001b[0m\u001b[1;33m]\u001b[0m\u001b[1;33m\u001b[0m\u001b[1;33m\u001b[0m\u001b[0m\n\u001b[1;32m---> 43\u001b[1;33m     \u001b[1;32mfor\u001b[0m \u001b[0mj\u001b[0m \u001b[1;32min\u001b[0m \u001b[0mbv_value\u001b[0m\u001b[1;33m:\u001b[0m\u001b[1;33m\u001b[0m\u001b[1;33m\u001b[0m\u001b[0m\n\u001b[0m\u001b[0;32m     44\u001b[0m         \u001b[1;32mif\u001b[0m \u001b[0mj\u001b[0m\u001b[1;33m.\u001b[0m\u001b[0mcontents\u001b[0m\u001b[1;33m[\u001b[0m\u001b[1;36m0\u001b[0m\u001b[1;33m]\u001b[0m \u001b[1;33m==\u001b[0m \u001b[1;34m\"Total Oil Breakdown:\"\u001b[0m\u001b[1;33m:\u001b[0m\u001b[1;33m\u001b[0m\u001b[1;33m\u001b[0m\u001b[0m\n\u001b[0;32m     45\u001b[0m             \u001b[1;32mpass\u001b[0m\u001b[1;33m\u001b[0m\u001b[1;33m\u001b[0m\u001b[0m\n",
      "\u001b[1;31mNameError\u001b[0m: name 'bv_value' is not defined"
     ]
    }
   ],
   "source": [
    "hops_all = []\n",
    "for i in hop_list:\n",
    "    tables = pd.read_html(i['hop_link'])\n",
    "    table1 = tables[0].values.tolist()\n",
    "    for t in table1:\n",
    "        i.update({t[0]:t[1]})\n",
    "\n",
    "    response = requests.get(i['hop_link'])  \n",
    "    if response.status_code != 200:\n",
    "        print(\"response code not 200\")\n",
    "    else: \n",
    "        page = response.text\n",
    "        soup = bsoup(page, 'html')\n",
    "        bv = soup.find_all(\"table\", attrs={\"class\": \"brewvalues\"})\n",
    "\n",
    "    if i == 0:\n",
    "        # print(i['hop_link'])\n",
    "        bv_name = bv[0].find_all('th')\n",
    "        bv_value = bv[0].find_all('td')\n",
    "        bv_names = []\n",
    "        bv_names_descrip = []\n",
    "        \n",
    "     \n",
    "        for i in bv_name:\n",
    "            bv_names.append(i.contents[0].strip('›\\xa0 '))\n",
    "            if str(i.contents[1]) == '<br/>':\n",
    "                bv_names_descrip.append(str(i.contents[2]).strip('<small class=\"text-muted\">').strip('/<').rsplit('  <a')[0])\n",
    "            else:\n",
    "                bv_names_descrip.append(str(i.contents[1]).strip('<small class=\"text-muted\">').strip('/<').rsplit(' <a')[0])\n",
    "    ta = soup.find_all('em')\n",
    "    if len(ta) == 0:\n",
    "        i.update({'tags': None})\n",
    "    else:\n",
    "        tags = []\n",
    "        print(ta[0].text)\n",
    "        print(ta[0].text.split('#'))\n",
    "        for tag in ta[0].text:\n",
    "            print(tag)\n",
    "            if tag[0] == '#':\n",
    "                tags.append(tag.text.lstrip('#'))\n",
    "        i.update({'tags':tags})\n",
    "    bv_values = []\n",
    "    for j in bv_value:\n",
    "        if j.contents[0] == \"Total Oil Breakdown:\":\n",
    "            pass \n",
    "        else:\n",
    "            bv_values.append(str(j.contents[0]))\n",
    "\n",
    "    hops = [(bv_names[i], bv_values[i]) for i in range(len(bv_values))]\n",
    "    hops_data = {}\n",
    "    hops_data.update(i)\n",
    "    for i in hops:\n",
    "        hops_data.update({i[0]:i[1]})\n",
    "    print(hops_data)\n",
    "    hops_all.append(hops_data)\n",
    "    sleep(8)\n",
    "    print()\n",
    "\n"
   ]
  },
  {
   "cell_type": "code",
   "execution_count": null,
   "metadata": {},
   "outputs": [
    {
     "ename": "NameError",
     "evalue": "name 'pd' is not defined",
     "output_type": "error",
     "traceback": [
      "\u001b[1;31m---------------------------------------------------------------------------\u001b[0m",
      "\u001b[1;31mNameError\u001b[0m                                 Traceback (most recent call last)",
      "\u001b[1;32m<ipython-input-1-c4d65f366579>\u001b[0m in \u001b[0;36m<module>\u001b[1;34m\u001b[0m\n\u001b[1;32m----> 1\u001b[1;33m \u001b[0mhops_all_df\u001b[0m \u001b[1;33m=\u001b[0m \u001b[0mpd\u001b[0m\u001b[1;33m.\u001b[0m\u001b[0mDataFrame\u001b[0m\u001b[1;33m(\u001b[0m\u001b[0mhops_all\u001b[0m\u001b[1;33m)\u001b[0m\u001b[1;33m\u001b[0m\u001b[1;33m\u001b[0m\u001b[0m\n\u001b[0m\u001b[0;32m      2\u001b[0m \u001b[0mhops_all_df\u001b[0m\u001b[1;33m\u001b[0m\u001b[1;33m\u001b[0m\u001b[0m\n",
      "\u001b[1;31mNameError\u001b[0m: name 'pd' is not defined"
     ]
    }
   ],
   "source": [
    "hops_all_df = pd.DataFrame(hops_all)\n",
    "hops_all_df"
   ]
  }
 ],
 "metadata": {
  "kernelspec": {
   "display_name": "Python 3 (ipykernel)",
   "language": "python",
   "name": "python3"
  },
  "language_info": {
   "codemirror_mode": {
    "name": "ipython",
    "version": 3
   },
   "file_extension": ".py",
   "mimetype": "text/x-python",
   "name": "python",
   "nbconvert_exporter": "python",
   "pygments_lexer": "ipython3",
   "version": "3.8.8"
  },
  "orig_nbformat": 4
 },
 "nbformat": 4,
 "nbformat_minor": 2
}
