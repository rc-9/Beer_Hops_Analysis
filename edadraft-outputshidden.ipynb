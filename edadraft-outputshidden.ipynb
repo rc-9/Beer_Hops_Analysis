{
 "cells": [
  {
   "cell_type": "markdown",
   "id": "976dfeee-125c-4893-bb97-acd5fdd21db8",
   "metadata": {},
   "source": [
    "# Beer Hops Data: Exploratory Data Analysis\n",
    "\n",
    "**Data Files:** *cln_hops_profile.csv, cln_hops_brewvalues.csv*\n",
    "\n",
    "**Original Source:** *https://beermaverick.com/hops/*  (Data retrieved via web-scraping)\n",
    "\n",
    "file:///C:/Users/Romith/Desktop/Romith/DU/Q4-TOOLS1-4447/comp_4447_syllabus.pdf\n",
    "\n",
    "------------------------------------------------------------"
   ]
  },
  {
   "cell_type": "markdown",
   "id": "96f5db61-a0fb-4f9e-ae92-34cd9631d6d8",
   "metadata": {},
   "source": [
    "### Setup\n",
    "\n",
    "**Objective:** Import necessary modules for exploratory analysis & visualization and read in CSV files into local dataframes for easier access."
   ]
  },
  {
   "cell_type": "code",
   "execution_count": null,
   "id": "92de4ba9-0dfa-4f04-bd45-6a68605c9b3b",
   "metadata": {},
   "outputs": [],
   "source": [
    "# Import necessary packages\n",
    "import datapackage\n",
    "import numpy as np\n",
    "import geopandas as gpd\n",
    "import pandas as pd\n",
    "import itertools\n",
    "import folium\n",
    "import functools\n",
    "import matplotlib.pyplot as plt\n",
    "import operator\n",
    "import seaborn as sns"
   ]
  },
  {
   "cell_type": "code",
   "execution_count": null,
   "id": "13670892-d842-499c-9433-8778c7a2311c",
   "metadata": {},
   "outputs": [],
   "source": [
    "# Define file paths for processed CSV data\n",
    "CLEAN_HOPS_PATH = './clean_data/cln_hops_brewvalues.csv'  \n",
    "CLEAN_HOPS_PROFILE_PATH = './clean_data/cln_hops_profile.csv'"
   ]
  },
  {
   "cell_type": "code",
   "execution_count": null,
   "id": "d88aa34c-9595-4d80-ab52-26055db6e310",
   "metadata": {},
   "outputs": [],
   "source": [
    "# Read in raw CSV data into local dataframes\n",
    "hop_values_df = pd.read_csv(CLEAN_HOPS_PATH, index_col='Hop Name')\n",
    "hop_profile_df = pd.read_csv(CLEAN_HOPS_PROFILE_PATH, index_col='Hop Name')"
   ]
  },
  {
   "cell_type": "markdown",
   "id": "97d03652-6ea4-401b-baf1-4792d88f47a0",
   "metadata": {},
   "source": [
    "---------------------------------------\n",
    "### Cursory Look at Dataframes\n",
    "\n",
    "**Objective:** Basic exploration of processed dataframes (of brew values & profile info)"
   ]
  },
  {
   "cell_type": "code",
   "execution_count": null,
   "id": "936d8ffe-00d8-4d25-8390-7deafc35ad53",
   "metadata": {},
   "outputs": [],
   "source": [
    "hop_values_df.sample(5)"
   ]
  },
  {
   "cell_type": "code",
   "execution_count": null,
   "id": "369ab247-0c67-4976-b69f-d392c20be576",
   "metadata": {
    "scrolled": true,
    "tags": []
   },
   "outputs": [],
   "source": [
    "hop_values_df.info()"
   ]
  },
  {
   "cell_type": "code",
   "execution_count": null,
   "id": "e1b32317-1033-432e-bffa-0a04333476c0",
   "metadata": {
    "scrolled": true,
    "tags": []
   },
   "outputs": [],
   "source": [
    "hop_values_df.isnull().sum()"
   ]
  },
  {
   "cell_type": "markdown",
   "id": "1c793b67-d15d-43eb-b255-4f67d6677298",
   "metadata": {},
   "source": [
    "From this cursory look, we observe that all the datatypes are consistent with each column having float values after the cleaning. However, a potential hurdle is the number of null values that exist, especially for the oil values."
   ]
  },
  {
   "cell_type": "code",
   "execution_count": null,
   "id": "6a8a21f3-6754-4dd9-8617-c6b5464ba235",
   "metadata": {},
   "outputs": [],
   "source": [
    "hop_values_df.describe()"
   ]
  },
  {
   "cell_type": "markdown",
   "id": "a635aac8-891f-4cf4-b606-abaf258cc0b4",
   "metadata": {},
   "source": [
    "From this, we see that lot of the attributes have large ranges between the min and max values. There are also few \"inf\" values to be wary of for analysis. As before, we can observe that we have more data points for the main brew values and more NaN for the specific oil values."
   ]
  },
  {
   "cell_type": "code",
   "execution_count": null,
   "id": "214ef9f0-d328-451c-8eea-75f3e6542b53",
   "metadata": {},
   "outputs": [],
   "source": [
    "hop_profile_df.sample(5)"
   ]
  },
  {
   "cell_type": "code",
   "execution_count": null,
   "id": "39d78ae3-d3ec-408d-a8df-71a97f089745",
   "metadata": {},
   "outputs": [],
   "source": [
    "hop_profile_df.info()"
   ]
  },
  {
   "cell_type": "code",
   "execution_count": null,
   "id": "556ef459-d68c-4a4c-9db7-8b6f44468009",
   "metadata": {},
   "outputs": [],
   "source": [
    "hop_profile_df.isnull().sum()"
   ]
  },
  {
   "cell_type": "code",
   "execution_count": null,
   "id": "d3757566-6670-42e4-a33f-0282d0200242",
   "metadata": {
    "scrolled": true,
    "tags": []
   },
   "outputs": [],
   "source": [
    "hop_profile_df[hop_profile_df.isna().any(axis=1)]"
   ]
  },
  {
   "cell_type": "markdown",
   "id": "2d20b411-6b96-445e-bdf3-d24a945c7c87",
   "metadata": {},
   "source": [
    "In the profile dataset, we seem to have a lot less missing values to take care of. And conveniently, the rows are all NaN instead of partial missing data. The data values seem to be in either categorical or boolean formats. "
   ]
  },
  {
   "cell_type": "code",
   "execution_count": null,
   "id": "ee578687-398b-42ca-b63f-d77fad83fdea",
   "metadata": {},
   "outputs": [],
   "source": [
    "hop_profile_df.describe()"
   ]
  },
  {
   "cell_type": "markdown",
   "id": "3a577a03-deb3-49a9-b67d-7b1e17a9bdfb",
   "metadata": {},
   "source": [
    "This is not as enlightening as we would expect a majority of False values for each aroma since only a few aromas are tagged per hop. However, this does reinforce that the profile info is more complete and has much more consistency in terms of which values are missing across the board."
   ]
  },
  {
   "cell_type": "markdown",
   "id": "6c432d2d-3fec-4316-ab65-dd9c4685995a",
   "metadata": {},
   "source": [
    "-----------------------------------------------------\n",
    "### Exploratory Visualization: Hops Profile\n",
    "\n",
    "**Objective:** Output basic visualizations that give us an alternative cursory look at our dataset for hops profile."
   ]
  },
  {
   "cell_type": "code",
   "execution_count": null,
   "id": "1a5b37ca-e932-4f25-9dbb-25ebd6e380d7",
   "metadata": {},
   "outputs": [],
   "source": [
    "## VISUALIZE: HOPS AVAILABLE FOR COUNTRY\n",
    "\n",
    "plt.figure(figsize=(20, 8))\n",
    "c = sns.countplot(x='Country', data=hop_profile_df, hue='Purpose', dodge=False)\n",
    "c.set_xticklabels(c.get_xticklabels(), rotation=35, ha=\"right\")\n",
    "plt.title(\"Number of Hops by Country\")\n",
    "plt.show()\n"
   ]
  },
  {
   "cell_type": "markdown",
   "id": "25773e2c-d6d8-48c8-a79a-d6008094b704",
   "metadata": {},
   "source": [
    "From this countplot above, there are some interesting observations to be made. Most apparent is the fact that USA has the most hops by far, while UK, Germany, & New Zealand make up the next tier, and sum up to the same amount as US. However, the makeup of hops-purpose for each country is very unique. USA, for example, despite having the majority number of hops, have no \"Dual\" purpose hops (which is also true for the second most common Germany). Whereas, the majority of other countries have some dual, as well as, specialized purpose hops. UK and New Zealand seem to have the most dual-purpose hops."
   ]
  },
  {
   "cell_type": "code",
   "execution_count": null,
   "id": "dc7665cf-9776-4a0e-9ce6-590e42a85f16",
   "metadata": {
    "tags": []
   },
   "outputs": [],
   "source": [
    "## VISUALIZE: MOST POPULAR HOP AROMAS\n",
    "\n",
    "# Create modified df for easier visualization\n",
    "profiles = hop_profile_df.drop(columns=['Purpose', 'Country']).copy()  # hard copy to avoid cross-contamination\n",
    "aroma_count = profiles.sum()  # getting true counts for each aroma\n",
    "\n",
    "# Filter out aromas that only appear once (unique to a single hop)\n",
    "aroma_count_single = aroma_count[aroma_count.values == 1]\n",
    "print(\"Aromas that are unique to a single hop: \\n\", aroma_count_single.index)\n",
    "aroma_count = aroma_count[aroma_count.values > np.mean(aroma_count.values)]\n",
    "aroma_count = aroma_count.sort_values(axis=0, ascending=False, kind='mergesort')\n",
    "\n",
    "# Execute seaborn barplot with count of aromas in dataset \n",
    "g = sns.barplot(y=aroma_count.index, x=aroma_count.values, orient='h')\n",
    "sns.set(rc={'figure.figsize':(8, 6)})\n",
    "# g.set_xticklabels(g.get_xticklabels(), rotation=90, ha=\"right\")\n",
    "g.set(ylabel='Aroma', xlabel='Aroma Count in Hops')\n",
    "plt.title(\"Aroma Count in Hops\")\n",
    "plt.tight_layout()\n",
    "plt.show()"
   ]
  },
  {
   "cell_type": "markdown",
   "id": "43702870-b33a-46c8-8c12-cb1910b90242",
   "metadata": {},
   "source": [
    "From the barplot above, we see that there are a few aromas that are extremely popular among hops (citrus, floral, spicy most common). But a vase majority of aromas are unique to only less than 10 hops (most aromas were not plotted due to low count). "
   ]
  },
  {
   "cell_type": "code",
   "execution_count": null,
   "id": "a4bce5f1-d422-4a6b-a245-213a13c315e1",
   "metadata": {
    "tags": []
   },
   "outputs": [],
   "source": [
    "## VISUALIZE: Most Popular Aromas for Countries' Hops (TO DO: make colors consistent)\n",
    "\n",
    "# Set up plot config\n",
    "f, axs = plt.subplots(14, 1, figsize=(20, 46))\n",
    "\n",
    "# Loop through each country and create subplot based on most popular hops for that country\n",
    "country_list = sorted(list(hop_profile_df.Country.unique()))\n",
    "for i in range(len(country_list))[0:]:\n",
    "    df = hop_profile_df[hop_profile_df.Country == country_list[i]].copy()\n",
    "    df.drop(columns=['Purpose', 'Country'], inplace=True)\n",
    "    aroma_count = df.sum()\n",
    "    aroma_count = aroma_count.astype('int32')\n",
    "    aroma_count = aroma_count.nlargest(n=10, keep='first')\n",
    "    g = sns.barplot(x=aroma_count.index, y=aroma_count.values, ax=axs[i]).set(xlabel=\"Aroma\", ylabel = \"Num of Hops\")\n",
    "    axs[i].set_title(f'{country_list[i]}')\n",
    "    axs[i].tick_params(axis='x', rotation=45)\n",
    "\n",
    "plt.tight_layout()\n",
    "plt.show()"
   ]
  },
  {
   "cell_type": "markdown",
   "id": "52fcf153-2e5d-4815-8db7-7ea7c7cc63ce",
   "metadata": {},
   "source": [
    "Citrus seems to be a commonly popular hop aroma across various countries. Spice and floral also seem very popular. Since some countries only produce few hops to begin with, not all have 10. "
   ]
  },
  {
   "cell_type": "markdown",
   "id": "c6021c34-8995-4287-a018-8be963761708",
   "metadata": {},
   "source": [
    "-----------------------------------------------------\n",
    "### Exploratory Visualization: Hops Values\n",
    "\n",
    "**Objective:** Output basic visualizations that give us an alternative cursory look at our dataset for hops values."
   ]
  },
  {
   "cell_type": "code",
   "execution_count": null,
   "id": "67db112d-02f4-4c23-9f89-f816ef940ed0",
   "metadata": {
    "tags": []
   },
   "outputs": [],
   "source": [
    "## VISUALIZE: Distribution of each brew value (group with min/avg/max)\n",
    "\n",
    "df = hop_values_df.copy()\n",
    "df.replace([np.inf, -np.inf], np.nan, inplace=True)\n",
    "hist = df.hist(layout=(10, 3), figsize=(15, 30), bins=10)"
   ]
  },
  {
   "cell_type": "markdown",
   "id": "f9a85706-a60a-42bd-8538-f63169685d85",
   "metadata": {},
   "source": [
    "From the above distributions we see that the data for most attributes without a lot of missing values is mostly normal. Since we already observed there is a large range between min and max for the brew values, it might be tempting to use average but interestingly, we find another flaw through this exploratory histogram. If either the min or max values of a particular brew value has lot more missing values, then it also significant affects the average values as well (i.e. Alpha Beta Ratio). So there needs to be a more clever implementation in standardizing these values for further analyses."
   ]
  },
  {
   "cell_type": "code",
   "execution_count": null,
   "id": "22689e2c-28a8-4a7d-a697-054b124a8dc5",
   "metadata": {},
   "outputs": [],
   "source": [
    "## VISUALIZE: Correlation between numeric variables\n",
    "\n",
    "sns.heatmap(hop_values_df.corr(), cmap='coolwarm', xticklabels=True, yticklabels=True)\n",
    "plt.title(\"Correlation of Titanic Passenger Attributes\")\n",
    "plt.xticks(rotation=90)\n",
    "plt.show"
   ]
  },
  {
   "cell_type": "markdown",
   "id": "4a9b77b6-1046-47ea-bbe5-9409c5ccd4e9",
   "metadata": {},
   "source": [
    "Looking at the correlation among the brew values, we see some strong correlation between Alpha Acid & Alpha-Beta Ratio (and interestingly, Beta Acid % is a lot less correlated with the ratio). The heat map also indicates a relatively strong correlation between Alpha Acid % and Total Oils. There is a slight correlation between Caryophyllene and Humulene as well. Apart from those, there doesn't seem to be strong correlations between any of the other values with each other. "
   ]
  },
  {
   "cell_type": "markdown",
   "id": "5b4eab74-60ed-479a-b67f-e9ac618f2454",
   "metadata": {},
   "source": [
    "### Exploratory Visualization: High-Level Summaries by Country\n",
    "**Objective:** Plot countries on an interactive map with high-level, interessting info on values and profile as a whole."
   ]
  },
  {
   "cell_type": "code",
   "execution_count": null,
   "id": "9c5ad092-1008-421a-a67d-632b660c8bbc",
   "metadata": {
    "tags": []
   },
   "outputs": [],
   "source": [
    "# Read in geojson data with filtered countries to be used for Folium mapping\n",
    "countries_df = gpd.read_file('./rc_raw_data/countries.geojson')\n",
    "countries_df = countries_df[countries_df.ADMIN.isin(hop_profile_df.Country.unique())]\n",
    "countries_df.reset_index(drop=True, inplace=True)\n",
    "countries_df"
   ]
  },
  {
   "cell_type": "code",
   "execution_count": null,
   "id": "184f20f9-424c-49ab-a10f-c422f1566dfb",
   "metadata": {
    "tags": []
   },
   "outputs": [],
   "source": [
    "# Retrieve country info for values to be used for visualization\n",
    "values_countries = hop_values_df.merge(hop_profile_df.Country, left_index=True, right_index=True)\n",
    "values_countries.replace([np.inf, -np.inf], np.nan, inplace=True)  # replacing inf values (reasoning...)\n",
    "values_countries"
   ]
  },
  {
   "cell_type": "code",
   "execution_count": null,
   "id": "d93cfc26-0aef-481e-bb80-ebbf976ceaa4",
   "metadata": {
    "tags": []
   },
   "outputs": [],
   "source": [
    "# Add avg brewvalues for each country in the countries_df geojson dataframe\n",
    "for col in [i for i in values_countries.columns if 'Avg' in i]:  # avg value columns only\n",
    "    mean_values_per_country = values_countries.groupby(by='Country', dropna=True).mean()[col]\n",
    "    countries_df[col] = mean_values_per_country.values\n",
    "\n",
    "# Adding popular aromas for hops for each country\n",
    "country_list = sorted(list(hop_profile_df.Country.unique()))\n",
    "aromas_lists = []\n",
    "for i in range(len(country_list)):\n",
    "    df = hop_profile_df[hop_profile_df.Country == country_list[i]].copy()\n",
    "    df.drop(columns=['Purpose', 'Country'], inplace=True)\n",
    "    aroma_count = df.sum()\n",
    "    aroma_count = aroma_count.astype('int32')\n",
    "    aroma_count = aroma_count.nlargest(n=3, keep='first')\n",
    "    aromas_lists.append(list(aroma_count.index))\n",
    "countries_df['Top 3 Aromas'] = aromas_lists\n",
    "\n",
    "countries_df"
   ]
  },
  {
   "cell_type": "code",
   "execution_count": null,
   "id": "ce0418e9-15f8-49a4-be09-1b67fceaa01a",
   "metadata": {},
   "outputs": [],
   "source": [
    "## VISUALIZE: Map with Values\n",
    "\n",
    "m = folium.Map(location=[0, 0], zoom_start=2)  # starting point\n",
    "\n",
    "def create_choro(brew_value):\n",
    "    \"\"\"Sets up choropleth specifications for a given brew value and returns the choropleth object.\"\"\"\n",
    "    choro = folium.Choropleth(\n",
    "        geo_data=countries_df,\n",
    "        name=brew_value,\n",
    "        data=countries_df,\n",
    "        columns=['ADMIN', brew_value],\n",
    "        key_on='feature.properties.ADMIN',\n",
    "        fill_color='YlOrRd',\n",
    "        fill_opacity=0.8,\n",
    "        line_opacity=.2,\n",
    "        line_weight=2,\n",
    "        smooth_factor=0,\n",
    "        Highlight=True,\n",
    "        nan_fill_color='White',\n",
    "        legend_name=f'Brew Value: {brew_value}',\n",
    "        show=False,\n",
    "        highlight=True,\n",
    "        overlay=False\n",
    "    )\n",
    "    return choro\n",
    "\n",
    "# Add choropleth layer for each brew value\n",
    "for brew_value in [i for i in values_countries.columns if 'Avg' in i]:\n",
    "    m.add_child(create_choro(brew_value))\n",
    "\n",
    "# Add information markers for popular aromas\n",
    "centers = countries_df.to_crs('+proj=cea').centroid.to_crs(countries_df.crs)\n",
    "for i in range(len(countries_df)):\n",
    "    m.add_child(\n",
    "        folium.Marker(\n",
    "            location=[centers[i].y, centers[i].x],\n",
    "            popup=f\"\"\"\n",
    "                <p>Top 3 Aromas:</p> <hr>\n",
    "                <p>{countries_df.iloc[i][\"Top 3 Aromas\"][0]}</p> <hr>\n",
    "                <p>{countries_df.iloc[i][\"Top 3 Aromas\"][1]}</p> <hr>\n",
    "                <p>{countries_df.iloc[i][\"Top 3 Aromas\"][2]}</p> <hr>\n",
    "            \"\"\",\n",
    "            icon=folium.Icon(color='blue')\n",
    "        )\n",
    "    )\n",
    "\n",
    "m.add_child(folium.LayerControl(position='topright', collapsed=False))\n",
    "m.save('choro_values.html')\n",
    "m"
   ]
  },
  {
   "cell_type": "code",
   "execution_count": null,
   "id": "c31b7e7b-e4e3-4935-ba2a-64977f99153e",
   "metadata": {},
   "outputs": [],
   "source": []
  },
  {
   "cell_type": "code",
   "execution_count": null,
   "id": "dfdde6f1-5fd8-4883-8bbd-0f4a449833f7",
   "metadata": {},
   "outputs": [],
   "source": []
  },
  {
   "cell_type": "code",
   "execution_count": null,
   "id": "1f817a33-e7de-4d36-9242-baff825121a2",
   "metadata": {},
   "outputs": [],
   "source": []
  },
  {
   "cell_type": "code",
   "execution_count": null,
   "id": "cab3752a-dbe8-48e7-a937-b905faf5824d",
   "metadata": {},
   "outputs": [],
   "source": []
  },
  {
   "cell_type": "code",
   "execution_count": null,
   "id": "11e0cb28-2f3e-4dd7-99d3-eb2077ec7f5e",
   "metadata": {},
   "outputs": [],
   "source": []
  },
  {
   "cell_type": "code",
   "execution_count": null,
   "id": "ceb5b4b4-7f9a-4a50-8601-a4389f848d5d",
   "metadata": {},
   "outputs": [],
   "source": []
  },
  {
   "cell_type": "code",
   "execution_count": null,
   "id": "fa303f57-8c16-4d2c-bffd-45ec4a5602ed",
   "metadata": {},
   "outputs": [],
   "source": []
  },
  {
   "cell_type": "code",
   "execution_count": null,
   "id": "742e9fd8-707f-4e2e-8630-10c6ebed9108",
   "metadata": {},
   "outputs": [],
   "source": []
  }
 ],
 "metadata": {
  "kernelspec": {
   "display_name": "Python 3 (ipykernel)",
   "language": "python",
   "name": "python3"
  },
  "language_info": {
   "codemirror_mode": {
    "name": "ipython",
    "version": 3
   },
   "file_extension": ".py",
   "mimetype": "text/x-python",
   "name": "python",
   "nbconvert_exporter": "python",
   "pygments_lexer": "ipython3",
   "version": "3.8.5"
  }
 },
 "nbformat": 4,
 "nbformat_minor": 5
}
